{
  "nbformat": 4,
  "nbformat_minor": 0,
  "metadata": {
    "colab": {
      "name": "Parkinson_disease.ipynb",
      "provenance": [],
      "collapsed_sections": [],
      "include_colab_link": true
    },
    "kernelspec": {
      "name": "python3",
      "display_name": "Python 3"
    }
  },
  "cells": [
    {
      "cell_type": "markdown",
      "metadata": {
        "id": "view-in-github",
        "colab_type": "text"
      },
      "source": [
        "<a href=\"https://colab.research.google.com/github/ErlantzCalvo/Parkinson_Detection/blob/master/Parkinson_disease.ipynb\" target=\"_parent\"><img src=\"https://colab.research.google.com/assets/colab-badge.svg\" alt=\"Open In Colab\"/></a>"
      ]
    },
    {
      "cell_type": "code",
      "metadata": {
        "id": "GiiHFcofzstQ",
        "outputId": "ebd4f4a0-cd23-41d2-9f31-63725fb1f016",
        "colab": {
          "base_uri": "https://localhost:8080/",
          "height": 51
        }
      },
      "source": [
        "from google.colab import drive\n",
        "drive.mount('/content/drive')\n"
      ],
      "execution_count": null,
      "outputs": [
        {
          "output_type": "stream",
          "text": [
            "Drive already mounted at /content/drive; to attempt to forcibly remount, call drive.mount(\"/content/drive\", force_remount=True).\n",
            "drive  parkinson_disease  sample_data\n"
          ],
          "name": "stdout"
        }
      ]
    },
    {
      "cell_type": "code",
      "metadata": {
        "id": "rK-uRpfD0Euc",
        "outputId": "9affac0c-f0fc-4635-ca6e-06e24c2c18f6",
        "colab": {
          "base_uri": "https://localhost:8080/",
          "height": 34
        }
      },
      "source": [
        "%cd drive/My\\ Drive\n",
        "%cd 'Colab Notebooks/'\n",
        "%cd 'datasets/ParkinsonDisease/'"
      ],
      "execution_count": null,
      "outputs": [
        {
          "output_type": "stream",
          "text": [
            "/content/drive/My Drive/Colab Notebooks/datasets/ParkinsonDisease\n"
          ],
          "name": "stdout"
        }
      ]
    },
    {
      "cell_type": "code",
      "metadata": {
        "id": "LsZtaSebb9jx"
      },
      "source": [
        "import os\n",
        "import pandas as pd\n",
        "from tqdm import tqdm"
      ],
      "execution_count": null,
      "outputs": []
    },
    {
      "cell_type": "markdown",
      "metadata": {
        "id": "jOb3a3npyzaK"
      },
      "source": [
        "# Data explanation\n",
        "The data .csv has the next format: \\\\\n",
        "  X ; Y; Z; Pressure; GripAngle; Timestamp; Test ID\n",
        "\n",
        "----------------\n",
        "Test ID: \\\\\n",
        "0: Static Spiral Test ( Draw on the given spiral pattern) \\\\\n",
        "1: Dynamic Spiral Test ( Spiral pattern will blink in a certain time, so subjects need to continue on their draw) \\\\\n",
        "2: Circular Motion Test (Subjectd draw circles around the red point)"
      ]
    },
    {
      "cell_type": "markdown",
      "metadata": {
        "id": "34dawJiP-sYB"
      },
      "source": [
        "# Loading data\n",
        "We've got 2 different datasets:\n",
        "  \n",
        "\n",
        "*   **Control**: People who did the tests without having the Parkinson disease. \n",
        "*   **Parkinson**: People who did the tests having the Parkinson disease. \n",
        "\n",
        "*Note:* The parkinson dataset is splitted in two different paths, so we'll load both of them and then mix them."
      ]
    },
    {
      "cell_type": "code",
      "metadata": {
        "id": "urKCFnWNfK5C",
        "outputId": "8b2cd8fd-e631-4fcf-c2ef-3c0cbf595135",
        "colab": {
          "base_uri": "https://localhost:8080/",
          "height": 470
        }
      },
      "source": [
        "CONTROL_DATASET_PATH = 'hw_dataset/control'\n",
        "PARKINSON_DATASET_PATH = 'hw_dataset/parkinson'\n",
        "PARKINSON_DATASET_PATH_2 = 'new_dataset/parkinson'\n",
        "COLUMN_NAMES = ['X', 'Y', 'Z', 'Pressure', 'GripAngle', 'Timestamp', 'Test ID','UserId']\n",
        "\n",
        "userid = 0\n",
        "#Load Control dataset\n",
        "control_files = os.listdir(CONTROL_DATASET_PATH)\n",
        "df_control = pd.DataFrame()\n",
        "for i in tqdm(range(len(control_files)), desc= 'Control files: ', unit=' files'):\n",
        "  new_user_path = os.path.join(CONTROL_DATASET_PATH, control_files[i])\n",
        "  new_user = pd.read_csv(new_user_path, header=None,  sep=';')\n",
        "  new_user['UserId'] = userid\n",
        "  df_control = df_control.append(new_user)\n",
        "  userid +=1\n",
        "  \n",
        "df_control.columns = COLUMN_NAMES\n",
        "\n",
        "\n",
        "#Load parkinson dataset\n",
        "parkinson_files = os.listdir(PARKINSON_DATASET_PATH)\n",
        "df_parkinson = pd.DataFrame()\n",
        "\n",
        "for j in tqdm(range(len(parkinson_files)), desc= 'Parkinson files: ', unit=' files'):\n",
        "  new_user_path = os.path.join(PARKINSON_DATASET_PATH, parkinson_files[i])  \n",
        "  new_user = pd.read_csv(new_user_path, header=None,  sep=';')\n",
        "  new_user['UserId'] = userid\n",
        "  df_parkinson = df_parkinson.append(new_user)\n",
        "  userid +=1\n",
        "\n",
        "parkinson_files =  os.listdir(PARKINSON_DATASET_PATH_2)\n",
        "for k in tqdm(range(len(parkinson_files)), desc= 'Parkinson files: ', unit=' files'):\n",
        "  new_user_path = os.path.join(PARKINSON_DATASET_PATH_2, parkinson_files[i])  \n",
        "  new_user = pd.read_csv(new_user_path, header=None,  sep=';')\n",
        "  new_user['UserId'] = userid\n",
        "  df_parkinson = df_parkinson.append(new_user)\n",
        "  userid +=1\n",
        "\n",
        "\n",
        "df_parkinson.columns = COLUMN_NAMES\n",
        "df_parkinson\n"
      ],
      "execution_count": null,
      "outputs": [
        {
          "output_type": "stream",
          "text": [
            "Control files: 100%|██████████| 15/15 [00:00<00:00, 103.33 files/s]\n",
            "Parkinson files: 100%|██████████| 25/25 [00:00<00:00, 104.31 files/s]\n",
            "Parkinson files: 100%|██████████| 37/37 [00:00<00:00, 100.77 files/s]\n"
          ],
          "name": "stderr"
        },
        {
          "output_type": "execute_result",
          "data": {
            "text/html": [
              "<div>\n",
              "<style scoped>\n",
              "    .dataframe tbody tr th:only-of-type {\n",
              "        vertical-align: middle;\n",
              "    }\n",
              "\n",
              "    .dataframe tbody tr th {\n",
              "        vertical-align: top;\n",
              "    }\n",
              "\n",
              "    .dataframe thead th {\n",
              "        text-align: right;\n",
              "    }\n",
              "</style>\n",
              "<table border=\"1\" class=\"dataframe\">\n",
              "  <thead>\n",
              "    <tr style=\"text-align: right;\">\n",
              "      <th></th>\n",
              "      <th>X</th>\n",
              "      <th>Y</th>\n",
              "      <th>Z</th>\n",
              "      <th>Pressure</th>\n",
              "      <th>GripAngle</th>\n",
              "      <th>Timestamp</th>\n",
              "      <th>Test ID</th>\n",
              "      <th>UserId</th>\n",
              "    </tr>\n",
              "  </thead>\n",
              "  <tbody>\n",
              "    <tr>\n",
              "      <th>0</th>\n",
              "      <td>198</td>\n",
              "      <td>199</td>\n",
              "      <td>0</td>\n",
              "      <td>64</td>\n",
              "      <td>990</td>\n",
              "      <td>2717202</td>\n",
              "      <td>0</td>\n",
              "      <td>15</td>\n",
              "    </tr>\n",
              "    <tr>\n",
              "      <th>1</th>\n",
              "      <td>197</td>\n",
              "      <td>200</td>\n",
              "      <td>0</td>\n",
              "      <td>100</td>\n",
              "      <td>1030</td>\n",
              "      <td>2717211</td>\n",
              "      <td>0</td>\n",
              "      <td>15</td>\n",
              "    </tr>\n",
              "    <tr>\n",
              "      <th>2</th>\n",
              "      <td>197</td>\n",
              "      <td>200</td>\n",
              "      <td>0</td>\n",
              "      <td>140</td>\n",
              "      <td>1030</td>\n",
              "      <td>2717220</td>\n",
              "      <td>0</td>\n",
              "      <td>15</td>\n",
              "    </tr>\n",
              "    <tr>\n",
              "      <th>3</th>\n",
              "      <td>196</td>\n",
              "      <td>200</td>\n",
              "      <td>0</td>\n",
              "      <td>175</td>\n",
              "      <td>1030</td>\n",
              "      <td>2717229</td>\n",
              "      <td>0</td>\n",
              "      <td>15</td>\n",
              "    </tr>\n",
              "    <tr>\n",
              "      <th>4</th>\n",
              "      <td>196</td>\n",
              "      <td>200</td>\n",
              "      <td>0</td>\n",
              "      <td>188</td>\n",
              "      <td>1010</td>\n",
              "      <td>2717238</td>\n",
              "      <td>0</td>\n",
              "      <td>15</td>\n",
              "    </tr>\n",
              "    <tr>\n",
              "      <th>...</th>\n",
              "      <td>...</td>\n",
              "      <td>...</td>\n",
              "      <td>...</td>\n",
              "      <td>...</td>\n",
              "      <td>...</td>\n",
              "      <td>...</td>\n",
              "      <td>...</td>\n",
              "      <td>...</td>\n",
              "    </tr>\n",
              "    <tr>\n",
              "      <th>3542</th>\n",
              "      <td>198</td>\n",
              "      <td>256</td>\n",
              "      <td>770</td>\n",
              "      <td>0</td>\n",
              "      <td>1690</td>\n",
              "      <td>1214808546</td>\n",
              "      <td>2</td>\n",
              "      <td>76</td>\n",
              "    </tr>\n",
              "    <tr>\n",
              "      <th>3543</th>\n",
              "      <td>198</td>\n",
              "      <td>255</td>\n",
              "      <td>794</td>\n",
              "      <td>0</td>\n",
              "      <td>1640</td>\n",
              "      <td>1214808553</td>\n",
              "      <td>2</td>\n",
              "      <td>76</td>\n",
              "    </tr>\n",
              "    <tr>\n",
              "      <th>3544</th>\n",
              "      <td>197</td>\n",
              "      <td>254</td>\n",
              "      <td>818</td>\n",
              "      <td>0</td>\n",
              "      <td>1580</td>\n",
              "      <td>1214808560</td>\n",
              "      <td>2</td>\n",
              "      <td>76</td>\n",
              "    </tr>\n",
              "    <tr>\n",
              "      <th>3545</th>\n",
              "      <td>197</td>\n",
              "      <td>252</td>\n",
              "      <td>842</td>\n",
              "      <td>0</td>\n",
              "      <td>1510</td>\n",
              "      <td>1214808567</td>\n",
              "      <td>2</td>\n",
              "      <td>76</td>\n",
              "    </tr>\n",
              "    <tr>\n",
              "      <th>3546</th>\n",
              "      <td>197</td>\n",
              "      <td>252</td>\n",
              "      <td>842</td>\n",
              "      <td>0</td>\n",
              "      <td>1510</td>\n",
              "      <td>1214808588</td>\n",
              "      <td>2</td>\n",
              "      <td>76</td>\n",
              "    </tr>\n",
              "  </tbody>\n",
              "</table>\n",
              "<p>319539 rows × 8 columns</p>\n",
              "</div>"
            ],
            "text/plain": [
              "        X    Y    Z  Pressure  GripAngle   Timestamp  Test ID  UserId\n",
              "0     198  199    0        64        990     2717202        0      15\n",
              "1     197  200    0       100       1030     2717211        0      15\n",
              "2     197  200    0       140       1030     2717220        0      15\n",
              "3     196  200    0       175       1030     2717229        0      15\n",
              "4     196  200    0       188       1010     2717238        0      15\n",
              "...   ...  ...  ...       ...        ...         ...      ...     ...\n",
              "3542  198  256  770         0       1690  1214808546        2      76\n",
              "3543  198  255  794         0       1640  1214808553        2      76\n",
              "3544  197  254  818         0       1580  1214808560        2      76\n",
              "3545  197  252  842         0       1510  1214808567        2      76\n",
              "3546  197  252  842         0       1510  1214808588        2      76\n",
              "\n",
              "[319539 rows x 8 columns]"
            ]
          },
          "metadata": {
            "tags": []
          },
          "execution_count": 77
        }
      ]
    },
    {
      "cell_type": "code",
      "metadata": {
        "id": "V81X5kmMzpRI"
      },
      "source": [
        ""
      ],
      "execution_count": null,
      "outputs": []
    }
  ]
}