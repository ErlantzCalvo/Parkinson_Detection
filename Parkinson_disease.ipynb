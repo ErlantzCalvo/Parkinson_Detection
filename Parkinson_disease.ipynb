{
  "nbformat": 4,
  "nbformat_minor": 0,
  "metadata": {
    "widgets": {
      "application/vnd.jupyter.widget-state+json": {}
    },
    "colab": {
      "name": "Parkinson_disease.ipynb",
      "provenance": []
    }
  },
  "cells": [
    {
      "cell_type": "markdown",
      "metadata": {
        "id": "wU8m9sEKUlkU"
      },
      "source": [
        "# Project 3: Parkinson Disease Detection\n",
        "## Objective: \n",
        "The goal of the project is to find suitable feature representations for this problem and compare different classifiers implemented in Python.\n",
        "## Authors: \n",
        "Erlantz Calvo Carrillo\n",
        "<br> \n",
        "Unai Carbajo Escajadillo"
      ]
    },
    {
      "cell_type": "code",
      "metadata": {
        "id": "xbXRW9-SUlkW"
      },
      "source": [
        "%cd 'pd_datasets//'"
      ],
      "execution_count": null,
      "outputs": []
    },
    {
      "cell_type": "code",
      "metadata": {
        "id": "d-ePn_PwUlkm"
      },
      "source": [
        "import os\n",
        "import pandas as pd\n",
        "from tqdm import tqdm\n",
        "import matplotlib.pyplot as plt\n",
        "from sklearn.linear_model import LogisticRegression\n",
        "from tpot import TPOTClassifier\n",
        "from sklearn.ensemble import RandomForestClassifier\n",
        "import numpy as np\n",
        "from sklearn import svm\n",
        "from sklearn.model_selection import cross_val_score, StratifiedKFold, train_test_split, KFold, cross_val_predict\n",
        "from sklearn.metrics import accuracy_score, balanced_accuracy_score, confusion_matrix\n",
        "from sklearn.decomposition import PCA\n",
        "from sklearn.preprocessing import StandardScaler\n",
        "from mpl_toolkits.mplot3d import Axes3D"
      ],
      "execution_count": null,
      "outputs": []
    },
    {
      "cell_type": "markdown",
      "metadata": {
        "id": "o0LTRjM4Ulkv"
      },
      "source": [
        "# Data explanation\n",
        "The data .csv has the next format: \\\n",
        "  X ; Y; Z; Pressure; GripAngle; Timestamp; Test ID\n",
        "\n",
        "----------------\n",
        "Test ID: \\\n",
        "0: Static Spiral Test ( Draw on the given spiral pattern) \\\n",
        "1: Dynamic Spiral Test ( Spiral pattern will blink in a certain time, so subjects need to continue on their draw) \\\n",
        "2: Circular Motion Test (Subjectd draw circles around the red point)\n",
        "\n",
        "# Sources and explanation\n",
        "Isenkul, Muhammed & Sakar, Betul & Kursun, O.. (2014). Improved Spiral Test Using Digitized Graphics Tablet for Monitoring Parkinson’s Disease. 10.13140/RG.2.1.1898.6005. \n",
        "\n",
        "Sakar, Betul & Isenkul, Muhammed & Sakar, C. Okan & Sertbaş, Ahmet & Gurgen, F. & Delil, Sakir & Apaydin, Hulya & Kursun, Olcay. (2013). Collection and Analysis of a Parkinson Speech Dataset With Multiple Types of Sound Recordings. Biomedical and Health Informatics, IEEE Journal of. 17. 828-834. 10.1109/JBHI.2013.2245674. \n",
        "\n",
        "[Dataset](https://archive.ics.uci.edu/ml/datasets/Parkinson+Disease+Spiral+Drawings+Using+Digitized+Graphics+Tablet\n",
        ")"
      ]
    },
    {
      "cell_type": "markdown",
      "metadata": {
        "id": "m17vClLYUlkw"
      },
      "source": [
        "# Loading data\n",
        "We've got 2 different datasets:\n",
        "  \n",
        "\n",
        "*   **Control**: People who did the tests without having the Parkinson disease. \n",
        "*   **Parkinson**: People who did the tests having the Parkinson disease. \n",
        "\n",
        "*Note:* The parkinson dataset is splitted in two different paths, so we'll load both of them and then mix them up."
      ]
    },
    {
      "cell_type": "code",
      "metadata": {
        "id": "KnVByPCuUlkx",
        "outputId": "d9a4ef9c-9f05-4b28-cce8-bd44128c491a"
      },
      "source": [
        "CONTROL_DATASET_PATH = 'hw_dataset/control'\n",
        "PARKINSON_DATASET_PATH = 'hw_dataset/parkinson'\n",
        "PARKINSON_DATASET_PATH_2 = 'new_dataset/parkinson'\n",
        "\n",
        "\n",
        "def load_datasets(control_path, parkinson_path):\n",
        "  COLUMN_NAMES = ['X', 'Y', 'Z', 'Pressure', 'GripAngle', 'Timestamp', 'Test ID','UserId']\n",
        "  userid = 0\n",
        "\n",
        "  #Load Control dataset\n",
        "  control_files = os.listdir(control_path)\n",
        "  df_control = pd.DataFrame(columns=COLUMN_NAMES)\n",
        " \n",
        "  for i in tqdm(range(len(control_files)), desc= 'Control files: ', unit=' files'):\n",
        "    new_user_path = os.path.join(control_path, control_files[i])\n",
        "    new_user = pd.read_csv(new_user_path, header=None,  sep=';', names=COLUMN_NAMES)\n",
        "    new_user['UserId'] = userid\n",
        "    df_control = df_control.append(new_user)\n",
        "    userid +=1\n",
        "\n",
        "\n",
        "  #Load parkinson dataset\n",
        "  parkinson_files = os.listdir(parkinson_path)\n",
        "  df_parkinson = pd.DataFrame(columns=COLUMN_NAMES)\n",
        "\n",
        "  for j in tqdm(range(len(parkinson_files)), desc= 'Parkinson files: ', unit=' files'):\n",
        "    new_user_path = os.path.join(parkinson_path, parkinson_files[j])  \n",
        "    new_user = pd.read_csv(new_user_path, header=None,  sep=';',names=COLUMN_NAMES)\n",
        "    new_user['UserId'] = userid\n",
        "    df_parkinson = df_parkinson.append(new_user)\n",
        "    userid +=1\n",
        "\n",
        "  parkinson_files =  os.listdir(PARKINSON_DATASET_PATH_2)\n",
        "  for k in tqdm(range(len(parkinson_files)), desc= 'Parkinson files: ', unit=' files'):\n",
        "    new_user_path = os.path.join(PARKINSON_DATASET_PATH_2, parkinson_files[i])  \n",
        "    new_user = pd.read_csv(new_user_path, header=None,  sep=';')\n",
        "    new_user['UserId'] = userid\n",
        "    df_parkinson = df_parkinson.append(new_user)\n",
        "    userid +=1\n",
        "\n",
        "\n",
        "  return df_parkinson, df_control\n",
        "df_parkinson, df_control= load_datasets(CONTROL_DATASET_PATH, PARKINSON_DATASET_PATH)"
      ],
      "execution_count": null,
      "outputs": [
        {
          "output_type": "stream",
          "text": [
            "\rControl files:   0%|          | 0/15 [00:00<?, ? files/s]\rControl files:  27%|██▋       | 4/15 [00:00<00:00, 36.14 files/s]\rControl files:  53%|█████▎    | 8/15 [00:00<00:00, 35.18 files/s]\rControl files:  80%|████████  | 12/15 [00:00<00:00, 35.38 files/s]\rControl files: 100%|██████████| 15/15 [00:00<00:00, 35.21 files/s]\n",
            "\rParkinson files:   0%|          | 0/25 [00:00<?, ? files/s]\rParkinson files:  24%|██▍       | 6/25 [00:00<00:00, 53.59 files/s]\rParkinson files:  40%|████      | 10/25 [00:00<00:00, 46.93 files/s]\rParkinson files:  56%|█████▌    | 14/25 [00:00<00:00, 44.40 files/s]\rParkinson files:  68%|██████▊   | 17/25 [00:00<00:00, 38.25 files/s]\rParkinson files:  80%|████████  | 20/25 [00:00<00:00, 32.07 files/s]\rParkinson files:  92%|█████████▏| 23/25 [00:00<00:00, 27.98 files/s]\rParkinson files: 100%|██████████| 25/25 [00:00<00:00, 31.84 files/s]\n",
            "\rParkinson files:   0%|          | 0/37 [00:00<?, ? files/s]\rParkinson files:   5%|▌         | 2/37 [00:00<00:03, 10.73 files/s]\rParkinson files:  11%|█         | 4/37 [00:00<00:03, 10.69 files/s]\rParkinson files:  16%|█▌        | 6/37 [00:00<00:02, 10.98 files/s]\rParkinson files:  22%|██▏       | 8/37 [00:00<00:02, 11.23 files/s]\rParkinson files:  27%|██▋       | 10/37 [00:00<00:02, 11.40 files/s]\rParkinson files:  30%|██▉       | 11/37 [00:01<00:02, 10.29 files/s]\rParkinson files:  32%|███▏      | 12/37 [00:01<00:02,  8.64 files/s]\rParkinson files:  38%|███▊      | 14/37 [00:01<00:02,  9.38 files/s]\rParkinson files:  43%|████▎     | 16/37 [00:01<00:02,  9.90 files/s]\rParkinson files:  49%|████▊     | 18/37 [00:01<00:01,  9.57 files/s]\rParkinson files:  54%|█████▍    | 20/37 [00:01<00:01,  9.90 files/s]\rParkinson files:  57%|█████▋    | 21/37 [00:02<00:01,  9.61 files/s]\rParkinson files:  62%|██████▏   | 23/37 [00:02<00:01,  9.24 files/s]\rParkinson files:  65%|██████▍   | 24/37 [00:02<00:01,  9.27 files/s]\rParkinson files:  70%|███████   | 26/37 [00:02<00:01,  9.41 files/s]\rParkinson files:  76%|███████▌  | 28/37 [00:02<00:01,  8.86 files/s]\rParkinson files:  78%|███████▊  | 29/37 [00:02<00:00,  9.12 files/s]\rParkinson files:  81%|████████  | 30/37 [00:03<00:00,  8.38 files/s]\rParkinson files:  84%|████████▍ | 31/37 [00:03<00:00,  7.96 files/s]\rParkinson files:  86%|████████▋ | 32/37 [00:03<00:00,  8.05 files/s]\rParkinson files:  89%|████████▉ | 33/37 [00:03<00:00,  8.12 files/s]\rParkinson files:  92%|█████████▏| 34/37 [00:03<00:00,  8.28 files/s]\rParkinson files:  95%|█████████▍| 35/37 [00:03<00:00,  7.78 files/s]\rParkinson files:  97%|█████████▋| 36/37 [00:03<00:00,  7.99 files/s]\rParkinson files: 100%|██████████| 37/37 [00:03<00:00,  7.84 files/s]\rParkinson files: 100%|██████████| 37/37 [00:03<00:00,  9.30 files/s]\n"
          ],
          "name": "stderr"
        }
      ]
    },
    {
      "cell_type": "markdown",
      "metadata": {
        "id": "__lw2CxQUlk2"
      },
      "source": [
        "# Test visualization\n",
        "Here we can see some of the subjects tests from the given data. On the left the control subjects and, on the right, the Parkinson disease subjects. "
      ]
    },
    {
      "cell_type": "code",
      "metadata": {
        "id": "qPM1J6wtUlk3",
        "outputId": "8db175b4-5602-4248-8aa9-f0da36b2c7ac"
      },
      "source": [
        "# Number of samples to be displayed\n",
        "n_samples = 3\n",
        "\n",
        "# Test id to be displayed\n",
        "test_num = 0\n",
        "\n",
        "for _ in range(n_samples):\n",
        "    uid= np.random.randint(0,14)\n",
        "\n",
        "    # Control sample\n",
        "    plt.figure()\n",
        "    x_draw = df_control[(df_control['UserId']==uid) & (df_control['Test ID']==test_num)]\n",
        "    y_draw = x_draw['Y'].to_list()\n",
        "    x_draw = x_draw['X'].to_list()\n",
        "    plt.subplot(1,2,1)\n",
        "    plt.plot(x_draw, y_draw)\n",
        "    plt.title('Control with id {}'.format(uid))\n",
        "\n",
        "    # PD sample\n",
        "    x_draw_p = df_parkinson[(df_parkinson['UserId'] == (uid+15)) & (df_parkinson['Test ID'] == test_num)]\n",
        "    y_draw_p = x_draw_p['Y'].to_list()\n",
        "    x_draw_p = x_draw_p['X'].to_list()\n",
        "    plt.subplot(1,2,2)\n",
        "    plt.plot(x_draw_p, y_draw_p)\n",
        "    plt.title('PD with id {}'.format(uid+15))\n",
        "    plt.show()"
      ],
      "execution_count": null,
      "outputs": [
        {
          "output_type": "display_data",
          "data": {
            "image/png": "[encoded data removed]"
          },
          "metadata": {
            "tags": [],
            "image/png": {
              "width": 0,
              "height": 0
            }
          }
        }
      ]
    },
    {
      "cell_type": "markdown",
      "metadata": {
        "id": "KkvLltnlUlk8"
      },
      "source": [
        "# Getting variable variation\n",
        "We extract how much does a certain variable change through the time along all the dataset. These new variables represent the change of certain value (pressure, grip angle, coordinates) from one sample to another.\n",
        "\n",
        "New variables:\n",
        "- **GripAngleDelta**: sum of the changes of the grip angle of the pen.\n",
        "- **PressureDelta**: sum of the change* of the applied pressure on the pen. The grip Z value is also taken as a preassure because \n",
        "  if user's pulse trembles he may raise his hand.\n",
        "- **CoordDelta**: sum changes of the coordenates of the pen.\n",
        "\n",
        "*'change' represents the substraction between a measure in a 't+1' time and another measure in a 't' time.*"
      ]
    },
    {
      "cell_type": "code",
      "metadata": {
        "id": "vnUvQPz6Ulk9"
      },
      "source": [
        "def get_subject_deltas(subject_data):\n",
        "  subject_grip_angle_delta = 0\n",
        "  subject_pressure_delta = 0\n",
        "  subject_coord_delta = 0\n",
        "  for i in range(len(subject_data) - 1):\n",
        "    # Grip angle variation\n",
        "    subject_grip_angle_delta += abs(subject_data['GripAngle'].iloc[i + 1] - subject_data['GripAngle'].iloc[i])\n",
        "    \n",
        "    # Pressure variation\n",
        "    subject_pressure_delta += abs(subject_data['Pressure'].iloc[i + 1] - subject_data['Pressure'].iloc[i])\n",
        "    subject_pressure_delta += abs(subject_data['Z'].iloc[i + 1] - subject_data['Z'].iloc[i])\n",
        "\n",
        "    # Coordinates angle variation\n",
        "    subject_coord_delta+= abs(subject_data['X'].iloc[i + 1] - subject_data['X'].iloc[i]) + abs(subject_data['Y'].iloc[i + 1] - subject_data['Y'].iloc[i]) + abs(subject_data['Z'].iloc[i + 1] - subject_data['Z'].iloc[i])\n",
        "\n",
        "  return subject_grip_angle_delta, subject_pressure_delta, subject_coord_delta"
      ],
      "execution_count": null,
      "outputs": []
    },
    {
      "cell_type": "markdown",
      "metadata": {
        "id": "oD-zzex1UllD"
      },
      "source": [
        "# Final dataset preparation\n",
        "We prepare the final dataset to be trained and tested, so we will do some feature extraction and join the control dataset and the parkinson dataset.\n",
        "\n",
        "Once taken the new features, we construct new statistic ones based on the variance and the std. deviation of the pressure, angle and coordinates:\n",
        "\n",
        "- **GripAngleVariance**\n",
        "- **GripAngleStd**\n",
        "- **PressureVariance**\n",
        "- **PressureStd**\n"
      ]
    },
    {
      "cell_type": "code",
      "metadata": {
        "id": "Q676shhgUllE",
        "outputId": "4e6a65fc-ba90-4171-976e-f74461f28d8b"
      },
      "source": [
        "def extract_features(dataset, subjects, is_parkinson):\n",
        "  NEW_COLUMNS = ['UserID', 'CoordinatesDelta',  'SameCoordDelta','GripAngleVariance', 'GripAngleStd', 'GripAngleDelta', 'GripAngleZscore', 'PressureVariance', 'PressureStd', 'PressureDelta', 'PressureZscore', 'Duration', 'Test ID', 'Parkinson']\n",
        "  df_polished = pd.DataFrame(columns=NEW_COLUMNS)\n",
        "\n",
        "  # Loop to iterate over the 3 possible tests\n",
        "  for i in range(3):\n",
        "\n",
        "    # Loop to iterate over all the subjects passed as argument\n",
        "    for j in tqdm(range(len(subjects)), desc=f'Test {i}: '):\n",
        "      df_subject = dataset[(dataset['Test ID'] ==i) & (dataset['UserId']==subjects[j])]\n",
        "      \n",
        "      if len(df_subject)>0:\n",
        "        #insert new values to the dataset\n",
        "        angle_variance = df_subject['GripAngle'].var()\n",
        "        angle_st_deviation = df_subject['GripAngle'].std()\n",
        "\n",
        "        pressure_variance =  df_subject['Pressure'].var()\n",
        "        pressure_st_deviation = df_subject['Pressure'].std()\n",
        "\n",
        "        # Getting de current test duration (end time - start time)\n",
        "        start_time = df_subject['Timestamp'].iloc[0]\n",
        "        end_time = df_subject['Timestamp'].iloc[-1]\n",
        "        duration = end_time - start_time\n",
        "\n",
        "        # Get all the variations and divide them by the time to have all the subjects in the same\n",
        "        # variation/time relationship\n",
        "        grip_angle_delta, pressure_delta, coord_delta = get_subject_deltas(df_subject)\n",
        "        grip_angle_delta = grip_angle_delta / duration\n",
        "        pressure_delta = pressure_delta / duration\n",
        "        coord_delta = coord_delta / duration\n",
        "\n",
        "        # Getting how many times the user is in the same coord (X,Y,Z)\n",
        "        same_coord_delta = df_subject.groupby(['X', 'Y', 'Z']).size().reset_index(name='count').sum()['count'] / duration\n",
        "\n",
        "        if not angle_st_deviation == 0:\n",
        "          angle_zscore = (grip_angle_delta - df_subject['GripAngle'].mean())/angle_st_deviation\n",
        "        else:\n",
        "          angle_zscore =  0\n",
        "\n",
        "        if not pressure_st_deviation == 0:\n",
        "          pressure_zscore = (pressure_delta - df_subject['Pressure'].mean())/pressure_st_deviation\n",
        "        else:\n",
        "          pressure_zscore = 0\n",
        "        \n",
        "\n",
        "        df_polished = df_polished.append({'UserID': int(subjects[j]), 'CoordinatesDelta' : coord_delta, 'SameCoordDelta': same_coord_delta, 'GripAngleVariance' : angle_variance, \n",
        "                                          'GripAngleStd' : angle_st_deviation, 'GripAngleDelta' : grip_angle_delta, 'GripAngleZscore': angle_zscore,\n",
        "                                          'PressureVariance' : pressure_variance, 'PressureStd' : pressure_st_deviation, \n",
        "                                          'PressureDelta' : pressure_delta, 'PressureZscore': pressure_zscore, 'Duration' : duration, 'Test ID' : i, 'Parkinson' : is_parkinson}, \n",
        "                                         ignore_index = True)\n",
        "        df_polished[['UserID', 'Duration', 'Test ID', 'Parkinson']] =  df_polished[['UserID', 'Duration', 'Test ID', 'Parkinson']].astype(int)\n",
        "  return df_polished\n",
        "\n",
        "def prepare_dataset(control_dataset, parkinson_dataset):\n",
        "  # Get all control users id\n",
        "  control_users_id = control_dataset['UserId'].unique()\n",
        "  control_polished = extract_features(control_dataset, control_users_id, 0)\n",
        "\n",
        "  # Get all PD users id\n",
        "  parkinson_users_id = parkinson_dataset['UserId'].unique()\n",
        "  parkinson_polished = extract_features(parkinson_dataset, parkinson_users_id, 1)\n",
        "\n",
        "  frames = [control_polished, parkinson_polished]\n",
        "  final_dataset = pd.concat(frames)\n",
        "\n",
        "  # Make a one hot encoding to the test id column because there are values between 0 and 2 and, when multiplying\n",
        "  # this variables with a weight or a given value, the 3rd test will always have more importance than the other two\n",
        "  # and that's not the idea\n",
        "  one_hot = pd.get_dummies(final_dataset['Test ID'], prefix='Test_ID')\n",
        "  \n",
        "  final_dataset = pd.concat([final_dataset, one_hot], axis=1, sort=False)\n",
        "  final_dataset = final_dataset.drop('Test ID', axis=1)\n",
        "  \n",
        "  return final_dataset\n",
        "final_dataset = prepare_dataset(df_control, df_parkinson)\n",
        "final_dataset"
      ],
      "execution_count": null,
      "outputs": [
        {
          "output_type": "stream",
          "text": [
            "\rTest 0:   0%|          | 0/15 [00:00<?, ?it/s]\rTest 0:   7%|▋         | 1/15 [00:00<00:06,  2.01it/s]\rTest 0:  13%|█▎        | 2/15 [00:00<00:06,  2.14it/s]\rTest 0:  20%|██        | 3/15 [00:01<00:04,  2.48it/s]\rTest 0:  27%|██▋       | 4/15 [00:01<00:03,  2.95it/s]\rTest 0:  33%|███▎      | 5/15 [00:01<00:03,  2.50it/s]\rTest 0:  40%|████      | 6/15 [00:02<00:03,  2.79it/s]\rTest 0:  47%|████▋     | 7/15 [00:02<00:03,  2.43it/s]\rTest 0:  53%|█████▎    | 8/15 [00:02<00:02,  2.63it/s]\rTest 0:  60%|██████    | 9/15 [00:03<00:02,  2.16it/s]\rTest 0:  67%|██████▋   | 10/15 [00:04<00:02,  2.22it/s]\rTest 0:  73%|███████▎  | 11/15 [00:04<00:01,  2.51it/s]\rTest 0:  80%|████████  | 12/15 [00:04<00:01,  2.61it/s]\rTest 0:  87%|████████▋ | 13/15 [00:04<00:00,  2.87it/s]\rTest 0:  93%|█████████▎| 14/15 [00:05<00:00,  3.46it/s]\rTest 0: 100%|██████████| 15/15 [00:05<00:00,  2.64it/s]\rTest 0: 100%|██████████| 15/15 [00:05<00:00,  2.64it/s]\n",
            "\rTest 1:   0%|          | 0/15 [00:00<?, ?it/s]\rTest 1:   7%|▋         | 1/15 [00:00<00:03,  4.33it/s]\rTest 1:  13%|█▎        | 2/15 [00:00<00:03,  3.54it/s]\rTest 1:  20%|██        | 3/15 [00:00<00:03,  3.62it/s]\rTest 1:  27%|██▋       | 4/15 [00:01<00:02,  3.89it/s]\rTest 1:  33%|███▎      | 5/15 [00:01<00:03,  2.51it/s]\rTest 1:  40%|████      | 6/15 [00:02<00:03,  2.66it/s]\rTest 1:  47%|████▋     | 7/15 [00:02<00:03,  2.39it/s]\rTest 1:  53%|█████▎    | 8/15 [00:02<00:02,  2.73it/s]\rTest 1:  60%|██████    | 9/15 [00:03<00:02,  2.14it/s]\rTest 1:  67%|██████▋   | 10/15 [00:03<00:02,  2.38it/s]\rTest 1:  73%|███████▎  | 11/15 [00:04<00:01,  2.72it/s]\rTest 1:  80%|████████  | 12/15 [00:04<00:01,  2.78it/s]\rTest 1:  87%|████████▋ | 13/15 [00:04<00:00,  3.04it/s]\rTest 1:  93%|█████████▎| 14/15 [00:04<00:00,  3.56it/s]\rTest 1: 100%|██████████| 15/15 [00:05<00:00,  2.58it/s]\rTest 1: 100%|██████████| 15/15 [00:05<00:00,  2.69it/s]\n",
            "\rTest 2:   0%|          | 0/15 [00:00<?, ?it/s]\rTest 2:  27%|██▋       | 4/15 [00:00<00:00, 19.91it/s]\rTest 2:  47%|████▋     | 7/15 [00:00<00:00, 18.56it/s]\rTest 2:  53%|█████▎    | 8/15 [00:00<00:00, 11.50it/s]\rTest 2:  60%|██████    | 9/15 [00:00<00:00,  9.07it/s]\rTest 2:  87%|████████▋ | 13/15 [00:00<00:00, 10.84it/s]\rTest 2: 100%|██████████| 15/15 [00:01<00:00,  8.81it/s]\rTest 2: 100%|██████████| 15/15 [00:01<00:00, 12.05it/s]\n",
            "\rTest 0:   0%|          | 0/62 [00:00<?, ?it/s]\rTest 0:   2%|▏         | 1/62 [00:00<00:19,  3.15it/s]\rTest 0:   3%|▎         | 2/62 [00:00<00:17,  3.42it/s]\rTest 0:   5%|▍         | 3/62 [00:00<00:17,  3.30it/s]\rTest 0:   6%|▋         | 4/62 [00:01<00:18,  3.17it/s]\rTest 0:   8%|▊         | 5/62 [00:01<00:16,  3.52it/s]\rTest 0:  10%|▉         | 6/62 [00:01<00:13,  4.30it/s]\rTest 0:  11%|█▏        | 7/62 [00:02<00:16,  3.30it/s]\rTest 0:  13%|█▎        | 8/62 [00:02<00:15,  3.44it/s]\rTest 0:  15%|█▍        | 9/62 [00:02<00:15,  3.43it/s]\rTest 0:  16%|█▌        | 10/62 [00:03<00:20,  2.48it/s]\rTest 0:  18%|█▊        | 11/62 [00:03<00:19,  2.65it/s]\rTest 0:  19%|█▉        | 12/62 [00:03<00:17,  2.81it/s]\rTest 0:  21%|██        | 13/62 [00:03<00:14,  3.49it/s]\rTest 0:  23%|██▎       | 14/62 [00:04<00:17,  2.77it/s]\rTest 0:  24%|██▍       | 15/62 [00:04<00:16,  2.90it/s]\rTest 0:  26%|██▌       | 16/62 [00:05<00:16,  2.71it/s]\rTest 0:  27%|██▋       | 17/62 [00:05<00:17,  2.60it/s]\rTest 0:  29%|██▉       | 18/62 [00:05<00:15,  2.88it/s]\rTest 0:  31%|███       | 19/62 [00:06<00:14,  2.93it/s]\rTest 0:  32%|███▏      | 20/62 [00:06<00:13,  3.07it/s]\rTest 0:  34%|███▍      | 21/62 [00:07<00:15,  2.69it/s]\rTest 0:  35%|███▌      | 22/62 [00:07<00:12,  3.11it/s]\rTest 0:  37%|███▋      | 23/62 [00:08<00:19,  2.00it/s]\rTest 0:  39%|███▊      | 24/62 [00:08<00:17,  2.16it/s]\rTest 0:  40%|████      | 25/62 [00:08<00:13,  2.75it/s]\rTest 0:  47%|████▋     | 29/62 [00:08<00:08,  3.78it/s]\rTest 0:  53%|█████▎    | 33/62 [00:08<00:05,  5.12it/s]\rTest 0:  60%|█████▉    | 37/62 [00:09<00:03,  6.83it/s]\rTest 0:  66%|██████▌   | 41/62 [00:09<00:02,  8.90it/s]\rTest 0:  73%|███████▎  | 45/62 [00:09<00:01, 11.30it/s]\rTest 0:  77%|███████▋  | 48/62 [00:09<00:01, 13.88it/s]\rTest 0:  84%|████████▍ | 52/62 [00:09<00:00, 16.58it/s]\rTest 0:  90%|█████████ | 56/62 [00:09<00:00, 19.20it/s]\rTest 0:  95%|█████████▌| 59/62 [00:09<00:00, 21.51it/s]\rTest 0: 100%|██████████| 62/62 [00:09<00:00,  6.28it/s]\n",
            "\rTest 1:   0%|          | 0/62 [00:00<?, ?it/s]\rTest 1:   2%|▏         | 1/62 [00:00<00:13,  4.56it/s]\rTest 1:   3%|▎         | 2/62 [00:00<00:13,  4.53it/s]\rTest 1:   5%|▍         | 3/62 [00:00<00:18,  3.12it/s]\rTest 1:   6%|▋         | 4/62 [00:01<00:17,  3.29it/s]\rTest 1:   8%|▊         | 5/62 [00:01<00:15,  3.69it/s]\rTest 1:  11%|█▏        | 7/62 [00:01<00:14,  3.83it/s]\rTest 1:  13%|█▎        | 8/62 [00:02<00:16,  3.33it/s]\rTest 1:  15%|█▍        | 9/62 [00:02<00:14,  3.62it/s]\rTest 1:  16%|█▌        | 10/62 [00:03<00:21,  2.39it/s]\rTest 1:  18%|█▊        | 11/62 [00:03<00:21,  2.37it/s]\rTest 1:  19%|█▉        | 12/62 [00:04<00:19,  2.50it/s]\rTest 1:  21%|██        | 13/62 [00:04<00:15,  3.18it/s]\rTest 1:  23%|██▎       | 14/62 [00:04<00:15,  3.11it/s]\rTest 1:  24%|██▍       | 15/62 [00:04<00:14,  3.29it/s]\rTest 1:  26%|██▌       | 16/62 [00:05<00:14,  3.26it/s]\rTest 1:  27%|██▋       | 17/62 [00:05<00:16,  2.66it/s]\rTest 1:  29%|██▉       | 18/62 [00:05<00:14,  3.06it/s]\rTest 1:  31%|███       | 19/62 [00:06<00:14,  3.03it/s]\rTest 1:  32%|███▏      | 20/62 [00:06<00:13,  3.07it/s]\rTest 1:  34%|███▍      | 21/62 [00:07<00:19,  2.14it/s]\rTest 1:  35%|███▌      | 22/62 [00:07<00:16,  2.37it/s]\rTest 1:  37%|███▋      | 23/62 [00:08<00:21,  1.84it/s]\rTest 1:  39%|███▊      | 24/62 [00:08<00:18,  2.05it/s]\rTest 1:  40%|████      | 25/62 [00:08<00:13,  2.66it/s]\rTest 1:  45%|████▌     | 28/62 [00:09<00:09,  3.66it/s]\rTest 1:  50%|█████     | 31/62 [00:09<00:06,  4.96it/s]\rTest 1:  55%|█████▍    | 34/62 [00:09<00:04,  6.61it/s]\rTest 1:  60%|█████▉    | 37/62 [00:09<00:02,  8.61it/s]\rTest 1:  65%|██████▍   | 40/62 [00:09<00:02, 10.93it/s]\rTest 1:  69%|██████▉   | 43/62 [00:09<00:01, 13.49it/s]\rTest 1:  74%|███████▍  | 46/62 [00:09<00:00, 16.13it/s]\rTest 1:  79%|███████▉  | 49/62 [00:09<00:00, 18.70it/s]\rTest 1:  84%|████████▍ | 52/62 [00:09<00:00, 21.02it/s]\rTest 1:  89%|████████▊ | 55/62 [00:09<00:00, 23.03it/s]\rTest 1:  94%|█████████▎| 58/62 [00:10<00:00, 24.63it/s]\rTest 1:  98%|█████████▊| 61/62 [00:10<00:00, 25.88it/s]\rTest 1: 100%|██████████| 62/62 [00:10<00:00,  6.09it/s]\n",
            "\rTest 2:   0%|          | 0/62 [00:00<?, ?it/s]\rTest 2:   2%|▏         | 1/62 [00:00<00:11,  5.48it/s]\rTest 2:   3%|▎         | 2/62 [00:00<00:10,  5.51it/s]\rTest 2:   5%|▍         | 3/62 [00:00<00:10,  5.38it/s]\rTest 2:   6%|▋         | 4/62 [00:00<00:10,  5.38it/s]\rTest 2:   8%|▊         | 5/62 [00:00<00:11,  4.92it/s]\rTest 2:  11%|█▏        | 7/62 [00:01<00:09,  5.61it/s]\rTest 2:  13%|█▎        | 8/62 [00:01<00:09,  5.61it/s]\rTest 2:  15%|█▍        | 9/62 [00:01<00:09,  5.52it/s]\rTest 2:  16%|█▌        | 10/62 [00:01<00:09,  5.69it/s]\rTest 2:  18%|█▊        | 11/62 [00:01<00:09,  5.56it/s]\rTest 2:  19%|█▉        | 12/62 [00:02<00:09,  5.42it/s]\rTest 2:  21%|██        | 13/62 [00:02<00:08,  5.45it/s]\rTest 2:  23%|██▎       | 14/62 [00:02<00:08,  5.63it/s]\rTest 2:  24%|██▍       | 15/62 [00:02<00:08,  5.79it/s]\rTest 2:  26%|██▌       | 16/62 [00:02<00:07,  5.94it/s]\rTest 2:  27%|██▋       | 17/62 [00:03<00:07,  5.63it/s]\rTest 2:  29%|██▉       | 18/62 [00:03<00:07,  5.54it/s]\rTest 2:  31%|███       | 19/62 [00:03<00:08,  5.27it/s]\rTest 2:  34%|███▍      | 21/62 [00:03<00:06,  6.16it/s]\rTest 2:  35%|███▌      | 22/62 [00:03<00:06,  6.18it/s]\rTest 2:  37%|███▋      | 23/62 [00:04<00:10,  3.80it/s]\rTest 2:  39%|███▊      | 24/62 [00:04<00:08,  4.29it/s]\rTest 2:  40%|████      | 25/62 [00:04<00:07,  4.93it/s]\rTest 2:  45%|████▌     | 28/62 [00:04<00:05,  6.58it/s]\rTest 2:  50%|█████     | 31/62 [00:04<00:03,  8.57it/s]\rTest 2:  55%|█████▍    | 34/62 [00:04<00:02, 10.90it/s]\rTest 2:  60%|█████▉    | 37/62 [00:04<00:01, 13.43it/s]\rTest 2:  65%|██████▍   | 40/62 [00:05<00:01, 16.03it/s]\rTest 2:  69%|██████▉   | 43/62 [00:05<00:01, 18.61it/s]\rTest 2:  76%|███████▌  | 47/62 [00:05<00:00, 21.03it/s]\rTest 2:  81%|████████  | 50/62 [00:05<00:00, 23.01it/s]\rTest 2:  85%|████████▌ | 53/62 [00:05<00:00, 24.67it/s]\rTest 2:  92%|█████████▏| 57/62 [00:05<00:00, 26.12it/s]\rTest 2:  97%|█████████▋| 60/62 [00:05<00:00, 26.95it/s]\rTest 2: 100%|██████████| 62/62 [00:05<00:00, 10.68it/s]\n"
          ],
          "name": "stderr"
        },
        {
          "output_type": "display_data",
          "data": {
            "text/html": [
              "<div>\n",
              "<style scoped>\n",
              "    .dataframe tbody tr th:only-of-type {\n",
              "        vertical-align: middle;\n",
              "    }\n",
              "\n",
              "    .dataframe tbody tr th {\n",
              "        vertical-align: top;\n",
              "    }\n",
              "\n",
              "    .dataframe thead th {\n",
              "        text-align: right;\n",
              "    }\n",
              "</style>\n",
              "<table border=\"1\" class=\"dataframe\">\n",
              "  <thead>\n",
              "    <tr style=\"text-align: right;\">\n",
              "      <th></th>\n",
              "      <th>UserID</th>\n",
              "      <th>CoordinatesDelta</th>\n",
              "      <th>SameCoordDelta</th>\n",
              "      <th>GripAngleVariance</th>\n",
              "      <th>GripAngleStd</th>\n",
              "      <th>GripAngleDelta</th>\n",
              "      <th>GripAngleZscore</th>\n",
              "      <th>PressureVariance</th>\n",
              "      <th>PressureStd</th>\n",
              "      <th>PressureDelta</th>\n",
              "      <th>PressureZscore</th>\n",
              "      <th>Duration</th>\n",
              "      <th>Parkinson</th>\n",
              "      <th>Test_ID_0</th>\n",
              "      <th>Test_ID_1</th>\n",
              "      <th>Test_ID_2</th>\n",
              "    </tr>\n",
              "  </thead>\n",
              "  <tbody>\n",
              "    <tr>\n",
              "      <th>0</th>\n",
              "      <td>0</td>\n",
              "      <td>0.343655</td>\n",
              "      <td>0.142158</td>\n",
              "      <td>24859.868842</td>\n",
              "      <td>157.670127</td>\n",
              "      <td>2.061069</td>\n",
              "      <td>-5.216415</td>\n",
              "      <td>7093.398992</td>\n",
              "      <td>84.222319</td>\n",
              "      <td>0.565390</td>\n",
              "      <td>-10.885275</td>\n",
              "      <td>13886</td>\n",
              "      <td>0</td>\n",
              "      <td>1</td>\n",
              "      <td>0</td>\n",
              "      <td>0</td>\n",
              "    </tr>\n",
              "    <tr>\n",
              "      <th>1</th>\n",
              "      <td>1</td>\n",
              "      <td>0.232262</td>\n",
              "      <td>0.111055</td>\n",
              "      <td>12158.831112</td>\n",
              "      <td>110.267090</td>\n",
              "      <td>0.550915</td>\n",
              "      <td>-8.188765</td>\n",
              "      <td>3477.196396</td>\n",
              "      <td>58.967757</td>\n",
              "      <td>0.321972</td>\n",
              "      <td>-14.299815</td>\n",
              "      <td>35559</td>\n",
              "      <td>0</td>\n",
              "      <td>1</td>\n",
              "      <td>0</td>\n",
              "      <td>0</td>\n",
              "    </tr>\n",
              "    <tr>\n",
              "      <th>2</th>\n",
              "      <td>2</td>\n",
              "      <td>0.323166</td>\n",
              "      <td>0.142146</td>\n",
              "      <td>14560.734773</td>\n",
              "      <td>120.667870</td>\n",
              "      <td>1.158012</td>\n",
              "      <td>-6.727004</td>\n",
              "      <td>3771.980803</td>\n",
              "      <td>61.416454</td>\n",
              "      <td>0.501376</td>\n",
              "      <td>-14.383046</td>\n",
              "      <td>17081</td>\n",
              "      <td>0</td>\n",
              "      <td>1</td>\n",
              "      <td>0</td>\n",
              "      <td>0</td>\n",
              "    </tr>\n",
              "    <tr>\n",
              "      <th>3</th>\n",
              "      <td>3</td>\n",
              "      <td>0.251607</td>\n",
              "      <td>0.138546</td>\n",
              "      <td>14645.790713</td>\n",
              "      <td>121.019795</td>\n",
              "      <td>1.027755</td>\n",
              "      <td>-17.084962</td>\n",
              "      <td>25743.258991</td>\n",
              "      <td>160.447060</td>\n",
              "      <td>0.654768</td>\n",
              "      <td>-3.093385</td>\n",
              "      <td>13223</td>\n",
              "      <td>0</td>\n",
              "      <td>1</td>\n",
              "      <td>0</td>\n",
              "      <td>0</td>\n",
              "    </tr>\n",
              "    <tr>\n",
              "      <th>4</th>\n",
              "      <td>4</td>\n",
              "      <td>0.141986</td>\n",
              "      <td>0.142113</td>\n",
              "      <td>22162.988710</td>\n",
              "      <td>148.872391</td>\n",
              "      <td>0.646752</td>\n",
              "      <td>-9.279447</td>\n",
              "      <td>4067.676182</td>\n",
              "      <td>63.778336</td>\n",
              "      <td>0.337155</td>\n",
              "      <td>-9.683029</td>\n",
              "      <td>39335</td>\n",
              "      <td>0</td>\n",
              "      <td>1</td>\n",
              "      <td>0</td>\n",
              "      <td>0</td>\n",
              "    </tr>\n",
              "    <tr>\n",
              "      <th>...</th>\n",
              "      <td>...</td>\n",
              "      <td>...</td>\n",
              "      <td>...</td>\n",
              "      <td>...</td>\n",
              "      <td>...</td>\n",
              "      <td>...</td>\n",
              "      <td>...</td>\n",
              "      <td>...</td>\n",
              "      <td>...</td>\n",
              "      <td>...</td>\n",
              "      <td>...</td>\n",
              "      <td>...</td>\n",
              "      <td>...</td>\n",
              "      <td>...</td>\n",
              "      <td>...</td>\n",
              "      <td>...</td>\n",
              "    </tr>\n",
              "    <tr>\n",
              "      <th>68</th>\n",
              "      <td>35</td>\n",
              "      <td>0.595638</td>\n",
              "      <td>0.107379</td>\n",
              "      <td>9071.367686</td>\n",
              "      <td>95.243728</td>\n",
              "      <td>1.347038</td>\n",
              "      <td>-12.392610</td>\n",
              "      <td>0.000000</td>\n",
              "      <td>0.000000</td>\n",
              "      <td>0.519930</td>\n",
              "      <td>0.000000</td>\n",
              "      <td>11967</td>\n",
              "      <td>1</td>\n",
              "      <td>0</td>\n",
              "      <td>0</td>\n",
              "      <td>1</td>\n",
              "    </tr>\n",
              "    <tr>\n",
              "      <th>69</th>\n",
              "      <td>36</td>\n",
              "      <td>0.265566</td>\n",
              "      <td>0.112833</td>\n",
              "      <td>25274.279565</td>\n",
              "      <td>158.978865</td>\n",
              "      <td>0.839751</td>\n",
              "      <td>-7.995099</td>\n",
              "      <td>89211.575400</td>\n",
              "      <td>298.683068</td>\n",
              "      <td>0.504779</td>\n",
              "      <td>-2.416703</td>\n",
              "      <td>10777</td>\n",
              "      <td>1</td>\n",
              "      <td>0</td>\n",
              "      <td>0</td>\n",
              "      <td>1</td>\n",
              "    </tr>\n",
              "    <tr>\n",
              "      <th>70</th>\n",
              "      <td>37</td>\n",
              "      <td>0.327847</td>\n",
              "      <td>0.128633</td>\n",
              "      <td>4711.990537</td>\n",
              "      <td>68.643940</td>\n",
              "      <td>1.130587</td>\n",
              "      <td>-17.431242</td>\n",
              "      <td>36321.531088</td>\n",
              "      <td>190.582085</td>\n",
              "      <td>0.537035</td>\n",
              "      <td>-1.007059</td>\n",
              "      <td>38396</td>\n",
              "      <td>1</td>\n",
              "      <td>0</td>\n",
              "      <td>0</td>\n",
              "      <td>1</td>\n",
              "    </tr>\n",
              "    <tr>\n",
              "      <th>71</th>\n",
              "      <td>38</td>\n",
              "      <td>0.333184</td>\n",
              "      <td>0.112948</td>\n",
              "      <td>1705.631521</td>\n",
              "      <td>41.299292</td>\n",
              "      <td>0.587654</td>\n",
              "      <td>-33.750780</td>\n",
              "      <td>99591.023764</td>\n",
              "      <td>315.580455</td>\n",
              "      <td>0.641477</td>\n",
              "      <td>-2.414093</td>\n",
              "      <td>11129</td>\n",
              "      <td>1</td>\n",
              "      <td>0</td>\n",
              "      <td>0</td>\n",
              "      <td>1</td>\n",
              "    </tr>\n",
              "    <tr>\n",
              "      <th>72</th>\n",
              "      <td>39</td>\n",
              "      <td>0.271984</td>\n",
              "      <td>0.114354</td>\n",
              "      <td>2105.760554</td>\n",
              "      <td>45.888567</td>\n",
              "      <td>0.637816</td>\n",
              "      <td>-35.653409</td>\n",
              "      <td>151614.751438</td>\n",
              "      <td>389.377389</td>\n",
              "      <td>0.525601</td>\n",
              "      <td>-2.066895</td>\n",
              "      <td>7949</td>\n",
              "      <td>1</td>\n",
              "      <td>0</td>\n",
              "      <td>0</td>\n",
              "      <td>1</td>\n",
              "    </tr>\n",
              "  </tbody>\n",
              "</table>\n",
              "<p>110 rows × 16 columns</p>\n",
              "</div>"
            ]
          },
          "metadata": {
            "tags": []
          }
        }
      ]
    },
    {
      "cell_type": "markdown",
      "metadata": {
        "id": "ng3nsJw4UllL"
      },
      "source": [
        "# Data visualization\n",
        "Here will be shown the comparative of the control subjects and PD subjects over the time (X axis = test duration, Y axis = user's data value).\n",
        "\\\n",
        "Control subjects are printed in blue and PD subjects in red."
      ]
    },
    {
      "cell_type": "code",
      "metadata": {
        "id": "W-AuEOuUUllL",
        "outputId": "9e5e34b7-8043-4beb-ec73-1299521bd9ff"
      },
      "source": [
        "# Separate Control users data and PD users data\n",
        "control_data = final_dataset[final_dataset['Parkinson']==0].drop(['UserID', 'Parkinson', 'Test_ID_0','Test_ID_1','Test_ID_2'],1)\n",
        "parkinson_data = final_dataset[final_dataset['Parkinson']==1].drop(['UserID', 'Parkinson', 'Test_ID_0','Test_ID_1','Test_ID_2'],1)\n",
        "\n",
        "# Get Control users test duration and PD users test duration\n",
        "control_duration = control_data['Duration']\n",
        "parkinson_duration = parkinson_data['Duration']\n",
        "\n",
        "# Show all the variable's comparative\n",
        "for col in control_data.drop(['Duration'],1).columns:\n",
        "  plt.figure()\n",
        "  control_col = control_data[col]\n",
        "  parkinson_col = parkinson_data[col]\n",
        "  plt.plot(control_duration, control_col, 'bo', parkinson_duration, parkinson_col, 'ro')\n",
        "  plt.title(col)\n",
        "  plt.show()"
      ],
      "execution_count": null,
      "outputs": [
        {
          "output_type": "display_data",
          "data": {
            "image/png": "[encoded data removed]"
          },
          "metadata": {
            "tags": [],
            "image/png": {
              "width": 0,
              "height": 0
            }
          }
        }
      ]
    },
    {
      "cell_type": "markdown",
      "metadata": {
        "id": "dswaZhSpUllQ"
      },
      "source": [
        "# Prepare the training and test datasets\n",
        "We split the final dataset in two new datasets, train and test. Since we have an unbalanced dataset\n",
        "we have split the dataset with a stratified method for having the most balanced train and test dataset that is possible.\n",
        "\n",
        "We have chosen to split the data in 66% for training and 33% for testing.\n"
      ]
    },
    {
      "cell_type": "code",
      "metadata": {
        "id": "DRQ3MBM4UllR",
        "outputId": "debe6db6-8d21-4599-ff23-6cce5155e702"
      },
      "source": [
        "scaler = StandardScaler()\n",
        "scaled_data = scaler.fit_transform(final_dataset.drop(['UserID', 'Parkinson'],1))\n",
        "\n",
        "#split the data into two datasets and remove the columns that are not valid for the prediction\n",
        "trainX, testX, trainY, testY = train_test_split(scaled_data,\n",
        "final_dataset['Parkinson'], test_size=0.2, stratify=final_dataset['Parkinson'])\n",
        "\n",
        "print(f'Train:\\nControl: {trainY.value_counts()[0]}\\n Parkinson: {trainY.value_counts()[1]}')\n",
        "print(f'Test:\\nControl: {testY.value_counts()[0]}\\n Parkinson: {testY.value_counts()[1]}')"
      ],
      "execution_count": null,
      "outputs": [
        {
          "output_type": "stream",
          "text": [
            "Train:\n",
            "Control: 30\n",
            " Parkinson: 58\n",
            "Test:\n",
            "Control: 7\n",
            " Parkinson: 15\n"
          ],
          "name": "stdout"
        }
      ]
    },
    {
      "cell_type": "markdown",
      "metadata": {
        "id": "cYeo-aRFUllV"
      },
      "source": [
        "# Logistic regression classifier"
      ]
    },
    {
      "cell_type": "code",
      "metadata": {
        "id": "X9MaJl6lUllW",
        "outputId": "7ff24975-c851-471d-c9ae-5a01ef3fcc01"
      },
      "source": [
        "lr = LogisticRegression(max_iter=500)\n",
        "lr.fit(trainX, trainY)\n",
        "prediction = lr.predict(testX)\n",
        "print(f'Accuracy: {accuracy_score(testY, prediction)}')\n",
        "print(f'Balanced Accuracy: {balanced_accuracy_score(testY, prediction)}')\n",
        "confusion_matrix(testY, prediction)"
      ],
      "execution_count": null,
      "outputs": [
        {
          "output_type": "stream",
          "text": [
            "Accuracy: 1.0\n",
            "Balanced Accuracy: 1.0\n"
          ],
          "name": "stdout"
        },
        {
          "output_type": "display_data",
          "data": {
            "text/plain": [
              "array([[ 7,  0],\n",
              "       [ 0, 15]])"
            ]
          },
          "metadata": {
            "tags": []
          }
        }
      ]
    },
    {
      "cell_type": "markdown",
      "metadata": {
        "id": "3jQTuG2RUlla"
      },
      "source": [
        "# Random forest classifier"
      ]
    },
    {
      "cell_type": "code",
      "metadata": {
        "id": "vYMz-0fEUllb",
        "outputId": "a0aed3b9-ab49-4c39-bdf6-129eddecd7fb"
      },
      "source": [
        "rf = RandomForestClassifier()\n",
        "rf.fit(trainX, trainY)\n",
        "prediction = rf.predict(testX)\n",
        "print(f'Accuracy: {accuracy_score(testY, prediction)}')\n",
        "print(f'Balanced Accuracy: {balanced_accuracy_score(testY, prediction)}')\n",
        "confusion_matrix(testY, prediction)"
      ],
      "execution_count": null,
      "outputs": [
        {
          "output_type": "stream",
          "text": [
            "Accuracy: 1.0\n",
            "Balanced Accuracy: 1.0\n"
          ],
          "name": "stdout"
        },
        {
          "output_type": "display_data",
          "data": {
            "text/plain": [
              "array([[ 7,  0],\n",
              "       [ 0, 15]])"
            ]
          },
          "metadata": {
            "tags": []
          }
        }
      ]
    },
    {
      "cell_type": "markdown",
      "metadata": {
        "id": "6_3RWTH0Ullf"
      },
      "source": [
        "# Support Vector Machine classifier"
      ]
    },
    {
      "cell_type": "code",
      "metadata": {
        "id": "1-jLgxqgUllg",
        "outputId": "8df7d946-917e-44e5-f8de-bcb7a500b39d"
      },
      "source": [
        "svc = svm.NuSVC()\n",
        "svc.fit(trainX, trainY)\n",
        "prediction = svc.predict(testX)\n",
        "print(f'Accuracy: {accuracy_score(testY, prediction)}')\n",
        "print(f'Balanced Accuracy: {balanced_accuracy_score(testY, prediction)}')\n",
        "confusion_matrix(testY, prediction)"
      ],
      "execution_count": null,
      "outputs": [
        {
          "output_type": "stream",
          "text": [
            "Accuracy: 1.0\n",
            "Balanced Accuracy: 1.0\n"
          ],
          "name": "stdout"
        },
        {
          "output_type": "display_data",
          "data": {
            "text/plain": [
              "array([[ 7,  0],\n",
              "       [ 0, 15]])"
            ]
          },
          "metadata": {
            "tags": []
          }
        }
      ]
    },
    {
      "cell_type": "markdown",
      "metadata": {
        "id": "-qE7PRZiUlll"
      },
      "source": [
        "# TPOT classifier\n",
        "The TPOT classifier try to find the best classifier for the dataset given with it's best pipelines* with genetic algorithms. This classifier is usually optimum but it\n",
        "has a very expensive computational weight.\n",
        "\n",
        "<img alt=\"Tpot scheme\" src=\"https://raw.githubusercontent.com/EpistasisLab/tpot/master/images/tpot-ml-pipeline.png\" width=\"75%\">\n",
        "\n",
        "*A pipeline consists of a sequence of components which are a compilation of computations. Data is sent through these components and is manipulated with the help of computation."
      ]
    },
    {
      "cell_type": "code",
      "metadata": {
        "id": "Ds57ro4SUlll",
        "outputId": "01f5cfa3-349d-4ea3-e7c2-0dbb546c4467",
        "colab": {
          "referenced_widgets": [
            "1a27b4eadeec4afe97c1ce5d38c24d88"
          ]
        }
      },
      "source": [
        "tpot = TPOTClassifier(generations=5,  verbosity=2)\n",
        "tpot.fit(trainX, trainY)"
      ],
      "execution_count": null,
      "outputs": [
        {
          "output_type": "stream",
          "text": [
            "\n",
            "Generation 1 - Current best internal CV score: 1.0\n",
            "Generation 2 - Current best internal CV score: 1.0\n",
            "Generation 3 - Current best internal CV score: 1.0\n",
            "Generation 4 - Current best internal CV score: 1.0\n",
            "Generation 5 - Current best internal CV score: 1.0\r\n",
            "Best pipeline: GradientBoostingClassifier(input_matrix, learning_rate=1.0, max_depth=4, max_features=0.9000000000000001, min_samples_leaf=5, min_samples_split=9, n_estimators=100, subsample=0.8500000000000001)\n"
          ],
          "name": "stdout"
        },
        {
          "output_type": "display_data",
          "data": {
            "application/vnd.jupyter.widget-view+json": {
              "version_major": 2,
              "version_minor": 0,
              "model_id": "1a27b4eadeec4afe97c1ce5d38c24d88"
            },
            "text/plain": [
              "TPOTClassifier(config_dict=None, crossover_rate=0.1, cv=5,\n",
              "               disable_update_check=False, early_stop=None, generations=5,\n",
              "               log_file=<ipykernel.iostream.OutStream object at 0x7efebc640410>,\n",
              "               max_eval_time_mins=5, max_time_mins=None, memory=None,\n",
              "               mutation_rate=0.9, n_jobs=1, offspring_size=None,\n",
              "               periodic_checkpoint_folder=None, population_size=100,\n",
              "               random_state=None, scoring=None, subsample=1.0, template=None,\n",
              "               use_dask=False, verbosity=2, warm_start=False)"
            ]
          },
          "metadata": {
            "tags": []
          }
        }
      ]
    },
    {
      "cell_type": "code",
      "metadata": {
        "id": "r9SqweQDUllr",
        "outputId": "d6c329d5-b757-47a1-c3bf-176452e4a8e1"
      },
      "source": [
        "prediction = tpot.predict(testX)\n",
        "print(f'Accuracy: {accuracy_score(testY, prediction)}')\n",
        "print(f'Balanced Accuracy: {balanced_accuracy_score(testY, prediction)}')\n",
        "confusion_matrix(testY, prediction)"
      ],
      "execution_count": null,
      "outputs": [
        {
          "output_type": "stream",
          "text": [
            "Accuracy: 1.0\n",
            "Balanced Accuracy: 1.0\n"
          ],
          "name": "stdout"
        },
        {
          "output_type": "display_data",
          "data": {
            "text/plain": [
              "array([[ 7,  0],\n",
              "       [ 0, 15]])"
            ]
          },
          "metadata": {
            "tags": []
          }
        }
      ]
    },
    {
      "cell_type": "markdown",
      "metadata": {
        "id": "Yz00Bq5-Ullv"
      },
      "source": [
        "## EVALUATING CLASSIFIERS\n",
        "#### Facing unbalanced dataset problem\n",
        "\n",
        "This dataset is highly unbalanced when it comes to class distribution. Thus, for evaluating the classifiers we used \n",
        "the **Stratified K-Folds cross-validator** (with k = 10) along with a **balanced accuracy score**. This type of k-fold cross-validator let us\n",
        "split the the train set in k stratified folds that preserve the percentage of samples for each class, leaving fairer\n",
        "folds, and, for evaluating the performance of each classifier, we used the balanced accuracy score, that is defined as the \n",
        "average of recall obtained on each class.\n",
        "\n",
        "<br><br>\n",
        "<img src = https://miro.medium.com/max/562/0*QKJTHrcriSx2ZNYr.png>\n",
        "\n",
        "\n",
        "##### Source: https://medium.com/@xzz201920/stratifiedkfold-v-s-kfold-v-s-stratifiedshufflesplit-ffcae5bfdf"
      ]
    },
    {
      "cell_type": "code",
      "metadata": {
        "id": "gJmWxBRyUllx",
        "outputId": "f8916be4-b901-4b22-a919-0c90aba03cb7"
      },
      "source": [
        "k = 10\n",
        "strat_kfold = StratifiedKFold(n_splits=k, shuffle=True, random_state=1)\n",
        "svc = svm.SVC()\n",
        "rf = RandomForestClassifier()\n",
        "lr= LogisticRegression(max_iter=500)\n",
        "\n",
        "svc_ba_sum = 0\n",
        "rf_ba_sum = 0\n",
        "lr_ba_sum = 0\n",
        "\n",
        "# Enumerize subdatasets (equaly distributed)\n",
        "for train_index, test_index in strat_kfold.split(trainX, trainY):\n",
        "    # print(\"TRAIN:\", train_index, \"TEST:\", test_index)\n",
        "    train_x, test_x = trainX[train_index], trainX[test_index]\n",
        "    train_y, test_y = trainY.iloc[train_index], trainY.iloc[test_index]\n",
        "    split_perc = 100*len(train_y[train_y==0])/len(train_y)\n",
        "    print(\"TRAIN PERCENTAGES. 0's: {:.4}%\\t 1's: {:.4}%\".format(split_perc, 100-split_perc))\n",
        "\n",
        "    ## Fit classifiers\n",
        "    svc.fit(train_x, train_y)\n",
        "    rf.fit(train_x, train_y)\n",
        "    lr.fit(train_x, train_y)\n",
        "\n",
        "    ## Predict\n",
        "    svc_prediction = svc.predict(test_x)\n",
        "    rf_prediction = rf.predict(test_x)\n",
        "    lr_prediction = lr.predict(test_x)\n",
        "\n",
        "    ## Compare several balanced accuracies\n",
        "    rf_sc = balanced_accuracy_score(test_y, rf_prediction)\n",
        "    svc_sc = balanced_accuracy_score(test_y,svc_prediction) \n",
        "    lr_sc = balanced_accuracy_score(test_y,lr_prediction) \n",
        "\n",
        "    rf_ba_sum += rf_sc\n",
        "    svc_ba_sum += svc_sc\n",
        "    lr_ba_sum += lr_sc\n",
        "    print(\"Balanced accuracy\\t[SVC]: {:.3}\\t [RF]:{:.3}\\t [LR]:{:.3}\".format(svc_sc,rf_sc,lr_sc))\n",
        "\n",
        "print(\"[SVC]: {:.4} \\t [RF] {:.4} \\t [LR] {:.4}\".format(svc_ba_sum/k, rf_ba_sum/k, lr_ba_sum/k))"
      ],
      "execution_count": null,
      "outputs": [
        {
          "output_type": "stream",
          "text": [
            "TRAIN PERCENTAGES. 0's: 34.18%\t 1's: 65.82%\n",
            "Balanced accuracy\t[SVC]: 1.0\t [RF]:1.0\t [LR]:1.0\n",
            "TRAIN PERCENTAGES. 0's: 34.18%\t 1's: 65.82%\n",
            "Balanced accuracy\t[SVC]: 0.917\t [RF]:0.667\t [LR]:0.917\n",
            "TRAIN PERCENTAGES. 0's: 34.18%\t 1's: 65.82%\n",
            "Balanced accuracy\t[SVC]: 1.0\t [RF]:0.833\t [LR]:1.0\n",
            "TRAIN PERCENTAGES. 0's: 34.18%\t 1's: 65.82%\n",
            "Balanced accuracy\t[SVC]: 1.0\t [RF]:1.0\t [LR]:1.0\n",
            "TRAIN PERCENTAGES. 0's: 34.18%\t 1's: 65.82%\n",
            "Balanced accuracy\t[SVC]: 1.0\t [RF]:1.0\t [LR]:1.0\n",
            "TRAIN PERCENTAGES. 0's: 34.18%\t 1's: 65.82%\n",
            "Balanced accuracy\t[SVC]: 1.0\t [RF]:1.0\t [LR]:1.0\n",
            "TRAIN PERCENTAGES. 0's: 34.18%\t 1's: 65.82%\n",
            "Balanced accuracy\t[SVC]: 1.0\t [RF]:1.0\t [LR]:1.0\n",
            "TRAIN PERCENTAGES. 0's: 34.18%\t 1's: 65.82%\n",
            "Balanced accuracy\t[SVC]: 1.0\t [RF]:0.917\t [LR]:1.0\n",
            "TRAIN PERCENTAGES. 0's: 33.75%\t 1's: 66.25%\n",
            "Balanced accuracy\t[SVC]: 0.667\t [RF]:0.667\t [LR]:0.667\n",
            "TRAIN PERCENTAGES. 0's: 33.75%\t 1's: 66.25%\n",
            "Balanced accuracy\t[SVC]: 1.0\t [RF]:1.0\t [LR]:1.0\n",
            "[SVC]: 0.9583 \t [RF] 0.9083 \t [LR] 0.9583\n"
          ],
          "name": "stdout"
        }
      ]
    },
    {
      "cell_type": "markdown",
      "metadata": {
        "id": "M7PGvTfDUll2"
      },
      "source": [
        "## Leave One Out Cross-Validation\n",
        "We selected another method for the model validation task, in this case we have chosen the Leave One Out Cross-Validation \n",
        "method, which, speaking about computational capacity, is very expensive but is a very good method for the model evaluation too.\n",
        "### Explanation\n",
        "The models will be trained with all the dataset except one instance and will be tested with that intance left.  This will be repeated with all de intances in the dataset.\\\n",
        "<br><br>\n",
        "<img src = \"https://upload.wikimedia.org/wikipedia/commons/thumb/c/c7/LOOCV.gif/300px-LOOCV.gif\">"
      ]
    },
    {
      "cell_type": "code",
      "metadata": {
        "id": "MKgBTZi8Ull3",
        "outputId": "9ddb5a94-9b98-4fd1-ab45-bf1ac5bdac6b"
      },
      "source": [
        "# Prepare de X and Y datasets, removing the class column from the X variable and other \n",
        "# unnecesary columns\n",
        "\n",
        "cross_val_Y = final_dataset['Parkinson']\n",
        "cross_val_X = scaled_data\n",
        "n_samples = cross_val_X.shape[0]\n",
        "\n",
        "# Evaluate all the models created with the Leave One Out Cross-Validation method.\n",
        "\n",
        "lr_predictions = cross_val_predict(lr, cross_val_X, cross_val_Y, cv = KFold(n_samples))\n",
        "print(f'Logistic regression accuracy: {accuracy_score(cross_val_Y,lr_predictions)}')\n",
        "print(f'Logistic regression confusion matrix:\\n {confusion_matrix(cross_val_Y,  lr_predictions)}\\n')\n",
        "\n",
        "svc_predictions = cross_val_predict(svc, cross_val_X, cross_val_Y, cv = KFold(n_samples))\n",
        "print(f'Support Vector Machine accuracy: {accuracy_score(cross_val_Y,svc_predictions)}')\n",
        "print(f'Support Vector Machine confusiion matrix:\\n {confusion_matrix(cross_val_Y,  svc_predictions)}\\n')\n",
        "\n",
        "rf_predictions = cross_val_predict(rf, cross_val_X, cross_val_Y, cv = KFold(n_samples))\n",
        "print(f'Random Forest accuracy: {accuracy_score(cross_val_Y,rf_predictions)}')\n",
        "print(f'Random Forest confusion matrix:\\n {confusion_matrix(cross_val_Y,  rf_predictions)}\\n')\n",
        "\n",
        "tpot_predictions = cross_val_predict(tpot.fitted_pipeline_, cross_val_X, cross_val_Y, cv = KFold(n_samples))\n",
        "print(f'Tpot accuracy: {accuracy_score(cross_val_Y,tpot_predictions)}')\n",
        "print(f'Tpot confusion matrix:\\n {confusion_matrix(cross_val_Y,  tpot_predictions)}')"
      ],
      "execution_count": null,
      "outputs": [
        {
          "output_type": "stream",
          "text": [
            "Logistic regression accuracy: 0.9727272727272728\n",
            "Logistic regression confusion matrix:\n",
            " [[35  2]\n",
            " [ 1 72]]\n",
            "\n",
            "Support Vector Machine accuracy: 0.9727272727272728\n",
            "Support Vector Machine confusiion matrix:\n",
            " [[35  2]\n",
            " [ 1 72]]\n",
            "\n",
            "Random Forest accuracy: 0.9818181818181818\n",
            "Random Forest confusion matrix:\n",
            " [[35  2]\n",
            " [ 0 73]]\n",
            "\n",
            "Tpot accuracy: 0.990909090909091\n",
            "Tpot confusion matrix:\n",
            " [[36  1]\n",
            " [ 0 73]]\n"
          ],
          "name": "stdout"
        }
      ]
    }
  ]
}