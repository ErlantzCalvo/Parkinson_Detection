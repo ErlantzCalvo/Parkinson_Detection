{
  "nbformat": 4,
  "nbformat_minor": 0,
  "metadata": {
    "colab": {
      "name": "Parkinson_disease.ipynb",
      "provenance": [],
      "collapsed_sections": [],
      "include_colab_link": true
    },
    "kernelspec": {
      "name": "python3",
      "display_name": "Python 3"
    },
    "accelerator": "TPU",
    "widgets": {
      "application/vnd.jupyter.widget-state+json": {
        "54fcd1a6e4284031b084122162b59371": {
          "model_module": "@jupyter-widgets/controls",
          "model_name": "HBoxModel",
          "state": {
            "_view_name": "HBoxView",
            "_dom_classes": [],
            "_model_name": "HBoxModel",
            "_view_module": "@jupyter-widgets/controls",
            "_model_module_version": "1.5.0",
            "_view_count": null,
            "_view_module_version": "1.5.0",
            "box_style": "",
            "layout": "IPY_MODEL_12c817a895ea40539df816a4ee623394",
            "_model_module": "@jupyter-widgets/controls",
            "children": [
              "IPY_MODEL_e25f1e0c12c24894a6470cb890bb2972",
              "IPY_MODEL_b3bef2ae4bba491eaa0d9ba568ca2249"
            ]
          }
        },
        "12c817a895ea40539df816a4ee623394": {
          "model_module": "@jupyter-widgets/base",
          "model_name": "LayoutModel",
          "state": {
            "_view_name": "LayoutView",
            "grid_template_rows": null,
            "right": null,
            "justify_content": null,
            "_view_module": "@jupyter-widgets/base",
            "overflow": null,
            "_model_module_version": "1.2.0",
            "_view_count": null,
            "flex_flow": null,
            "width": null,
            "min_width": null,
            "border": null,
            "align_items": null,
            "bottom": null,
            "_model_module": "@jupyter-widgets/base",
            "top": null,
            "grid_column": null,
            "overflow_y": null,
            "overflow_x": null,
            "grid_auto_flow": null,
            "grid_area": null,
            "grid_template_columns": null,
            "flex": null,
            "_model_name": "LayoutModel",
            "justify_items": null,
            "grid_row": null,
            "max_height": null,
            "align_content": null,
            "visibility": null,
            "align_self": null,
            "height": null,
            "min_height": null,
            "padding": null,
            "grid_auto_rows": null,
            "grid_gap": null,
            "max_width": null,
            "order": null,
            "_view_module_version": "1.2.0",
            "grid_template_areas": null,
            "object_position": null,
            "object_fit": null,
            "grid_auto_columns": null,
            "margin": null,
            "display": null,
            "left": null
          }
        },
        "e25f1e0c12c24894a6470cb890bb2972": {
          "model_module": "@jupyter-widgets/controls",
          "model_name": "FloatProgressModel",
          "state": {
            "_view_name": "ProgressView",
            "style": "IPY_MODEL_9e4be80aee5e480a84e3b35bba382890",
            "_dom_classes": [],
            "description": "Optimization Progress: 100%",
            "_model_name": "FloatProgressModel",
            "bar_style": "",
            "max": 1100,
            "_view_module": "@jupyter-widgets/controls",
            "_model_module_version": "1.5.0",
            "value": 1100,
            "_view_count": null,
            "_view_module_version": "1.5.0",
            "orientation": "horizontal",
            "min": 0,
            "description_tooltip": null,
            "_model_module": "@jupyter-widgets/controls",
            "layout": "IPY_MODEL_6f796f1eb88f4898aec44ec6a9e02ec5"
          }
        },
        "b3bef2ae4bba491eaa0d9ba568ca2249": {
          "model_module": "@jupyter-widgets/controls",
          "model_name": "HTMLModel",
          "state": {
            "_view_name": "HTMLView",
            "style": "IPY_MODEL_56adf2f6cb9845bf86221f9b92e49516",
            "_dom_classes": [],
            "description": "",
            "_model_name": "HTMLModel",
            "placeholder": "​",
            "_view_module": "@jupyter-widgets/controls",
            "_model_module_version": "1.5.0",
            "value": " 1100/1100 [11:45&lt;00:00,  1.72pipeline/s]",
            "_view_count": null,
            "_view_module_version": "1.5.0",
            "description_tooltip": null,
            "_model_module": "@jupyter-widgets/controls",
            "layout": "IPY_MODEL_ef9004e3da3c4b15b510921d4e5500bc"
          }
        },
        "9e4be80aee5e480a84e3b35bba382890": {
          "model_module": "@jupyter-widgets/controls",
          "model_name": "ProgressStyleModel",
          "state": {
            "_view_name": "StyleView",
            "_model_name": "ProgressStyleModel",
            "description_width": "initial",
            "_view_module": "@jupyter-widgets/base",
            "_model_module_version": "1.5.0",
            "_view_count": null,
            "_view_module_version": "1.2.0",
            "bar_color": null,
            "_model_module": "@jupyter-widgets/controls"
          }
        },
        "6f796f1eb88f4898aec44ec6a9e02ec5": {
          "model_module": "@jupyter-widgets/base",
          "model_name": "LayoutModel",
          "state": {
            "_view_name": "LayoutView",
            "grid_template_rows": null,
            "right": null,
            "justify_content": null,
            "_view_module": "@jupyter-widgets/base",
            "overflow": null,
            "_model_module_version": "1.2.0",
            "_view_count": null,
            "flex_flow": null,
            "width": null,
            "min_width": null,
            "border": null,
            "align_items": null,
            "bottom": null,
            "_model_module": "@jupyter-widgets/base",
            "top": null,
            "grid_column": null,
            "overflow_y": null,
            "overflow_x": null,
            "grid_auto_flow": null,
            "grid_area": null,
            "grid_template_columns": null,
            "flex": null,
            "_model_name": "LayoutModel",
            "justify_items": null,
            "grid_row": null,
            "max_height": null,
            "align_content": null,
            "visibility": null,
            "align_self": null,
            "height": null,
            "min_height": null,
            "padding": null,
            "grid_auto_rows": null,
            "grid_gap": null,
            "max_width": null,
            "order": null,
            "_view_module_version": "1.2.0",
            "grid_template_areas": null,
            "object_position": null,
            "object_fit": null,
            "grid_auto_columns": null,
            "margin": null,
            "display": null,
            "left": null
          }
        },
        "56adf2f6cb9845bf86221f9b92e49516": {
          "model_module": "@jupyter-widgets/controls",
          "model_name": "DescriptionStyleModel",
          "state": {
            "_view_name": "StyleView",
            "_model_name": "DescriptionStyleModel",
            "description_width": "",
            "_view_module": "@jupyter-widgets/base",
            "_model_module_version": "1.5.0",
            "_view_count": null,
            "_view_module_version": "1.2.0",
            "_model_module": "@jupyter-widgets/controls"
          }
        },
        "ef9004e3da3c4b15b510921d4e5500bc": {
          "model_module": "@jupyter-widgets/base",
          "model_name": "LayoutModel",
          "state": {
            "_view_name": "LayoutView",
            "grid_template_rows": null,
            "right": null,
            "justify_content": null,
            "_view_module": "@jupyter-widgets/base",
            "overflow": null,
            "_model_module_version": "1.2.0",
            "_view_count": null,
            "flex_flow": null,
            "width": null,
            "min_width": null,
            "border": null,
            "align_items": null,
            "bottom": null,
            "_model_module": "@jupyter-widgets/base",
            "top": null,
            "grid_column": null,
            "overflow_y": null,
            "overflow_x": null,
            "grid_auto_flow": null,
            "grid_area": null,
            "grid_template_columns": null,
            "flex": null,
            "_model_name": "LayoutModel",
            "justify_items": null,
            "grid_row": null,
            "max_height": null,
            "align_content": null,
            "visibility": null,
            "align_self": null,
            "height": null,
            "min_height": null,
            "padding": null,
            "grid_auto_rows": null,
            "grid_gap": null,
            "max_width": null,
            "order": null,
            "_view_module_version": "1.2.0",
            "grid_template_areas": null,
            "object_position": null,
            "object_fit": null,
            "grid_auto_columns": null,
            "margin": null,
            "display": null,
            "left": null
          }
        }
      }
    }
  },
  "cells": [
    {
      "cell_type": "markdown",
      "metadata": {
        "id": "view-in-github",
        "colab_type": "text"
      },
      "source": [
        "<a href=\"https://colab.research.google.com/github/ErlantzCalvo/Parkinson_Detection/blob/erlantz/Parkinson_disease.ipynb\" target=\"_parent\"><img src=\"https://colab.research.google.com/assets/colab-badge.svg\" alt=\"Open In Colab\"/></a>"
      ]
    },
    {
      "cell_type": "code",
      "metadata": {
        "id": "GiiHFcofzstQ",
        "outputId": "87aa660e-be9f-41f8-d25b-17862e097f49",
        "colab": {
          "base_uri": "https://localhost:8080/",
          "height": 34
        }
      },
      "source": [
        "from google.colab import drive \n",
        "drive.mount('/content/drive')\n"
      ],
      "execution_count": 1,
      "outputs": [
        {
          "output_type": "stream",
          "text": [
            "Mounted at /content/drive\n"
          ],
          "name": "stdout"
        }
      ]
    },
    {
      "cell_type": "code",
      "metadata": {
        "id": "rK-uRpfD0Euc",
        "outputId": "589fc0f2-aaa9-4490-c1b4-c826b129d2e0",
        "colab": {
          "base_uri": "https://localhost:8080/",
          "height": 68
        }
      },
      "source": [
        "%cd drive/My\\ Drive\n",
        "%cd 'Colab Notebooks/'\n",
        "%cd 'datasets/ParkinsonDisease/'"
      ],
      "execution_count": 2,
      "outputs": [
        {
          "output_type": "stream",
          "text": [
            "/content/drive/My Drive\n",
            "/content/drive/My Drive/Colab Notebooks\n",
            "/content/drive/My Drive/Colab Notebooks/datasets/ParkinsonDisease\n"
          ],
          "name": "stdout"
        }
      ]
    },
    {
      "cell_type": "code",
      "metadata": {
        "id": "V8q_pv9uX6yC",
        "outputId": "030ccfd4-4625-49c6-d4a2-bae03ad64146",
        "colab": {
          "base_uri": "https://localhost:8080/",
          "height": 544
        }
      },
      "source": [
        "!pip install tpot"
      ],
      "execution_count": 3,
      "outputs": [
        {
          "output_type": "stream",
          "text": [
            "Collecting tpot\n",
            "\u001b[?25l  Downloading https://files.pythonhosted.org/packages/14/5e/cb87b0257033a7a396e533a634079ee151a239d180efe2a8b1d2e3584d23/TPOT-0.11.5-py3-none-any.whl (82kB)\n",
            "\u001b[K     |████████████████████████████████| 92kB 2.8MB/s \n",
            "\u001b[?25hCollecting deap>=1.2\n",
            "\u001b[?25l  Downloading https://files.pythonhosted.org/packages/0a/eb/2bd0a32e3ce757fb26264765abbaedd6d4d3640d90219a513aeabd08ee2b/deap-1.3.1-cp36-cp36m-manylinux2010_x86_64.whl (157kB)\n",
            "\u001b[K     |████████████████████████████████| 163kB 11.0MB/s \n",
            "\u001b[?25hRequirement already satisfied: pandas>=0.24.2 in /usr/local/lib/python3.6/dist-packages (from tpot) (1.1.2)\n",
            "Requirement already satisfied: numpy>=1.16.3 in /usr/local/lib/python3.6/dist-packages (from tpot) (1.18.5)\n",
            "Requirement already satisfied: scipy>=1.3.1 in /usr/local/lib/python3.6/dist-packages (from tpot) (1.4.1)\n",
            "Collecting update-checker>=0.16\n",
            "  Downloading https://files.pythonhosted.org/packages/0c/ba/8dd7fa5f0b1c6a8ac62f8f57f7e794160c1f86f31c6d0fb00f582372a3e4/update_checker-0.18.0-py3-none-any.whl\n",
            "Requirement already satisfied: joblib>=0.13.2 in /usr/local/lib/python3.6/dist-packages (from tpot) (0.16.0)\n",
            "Requirement already satisfied: scikit-learn>=0.22.0 in /usr/local/lib/python3.6/dist-packages (from tpot) (0.22.2.post1)\n",
            "Requirement already satisfied: tqdm>=4.36.1 in /usr/local/lib/python3.6/dist-packages (from tpot) (4.41.1)\n",
            "Collecting stopit>=1.1.1\n",
            "  Downloading https://files.pythonhosted.org/packages/35/58/e8bb0b0fb05baf07bbac1450c447d753da65f9701f551dca79823ce15d50/stopit-1.1.2.tar.gz\n",
            "Requirement already satisfied: python-dateutil>=2.7.3 in /usr/local/lib/python3.6/dist-packages (from pandas>=0.24.2->tpot) (2.8.1)\n",
            "Requirement already satisfied: pytz>=2017.2 in /usr/local/lib/python3.6/dist-packages (from pandas>=0.24.2->tpot) (2018.9)\n",
            "Requirement already satisfied: requests>=2.3.0 in /usr/local/lib/python3.6/dist-packages (from update-checker>=0.16->tpot) (2.23.0)\n",
            "Requirement already satisfied: six>=1.5 in /usr/local/lib/python3.6/dist-packages (from python-dateutil>=2.7.3->pandas>=0.24.2->tpot) (1.15.0)\n",
            "Requirement already satisfied: idna<3,>=2.5 in /usr/local/lib/python3.6/dist-packages (from requests>=2.3.0->update-checker>=0.16->tpot) (2.10)\n",
            "Requirement already satisfied: chardet<4,>=3.0.2 in /usr/local/lib/python3.6/dist-packages (from requests>=2.3.0->update-checker>=0.16->tpot) (3.0.4)\n",
            "Requirement already satisfied: urllib3!=1.25.0,!=1.25.1,<1.26,>=1.21.1 in /usr/local/lib/python3.6/dist-packages (from requests>=2.3.0->update-checker>=0.16->tpot) (1.24.3)\n",
            "Requirement already satisfied: certifi>=2017.4.17 in /usr/local/lib/python3.6/dist-packages (from requests>=2.3.0->update-checker>=0.16->tpot) (2020.6.20)\n",
            "Building wheels for collected packages: stopit\n",
            "  Building wheel for stopit (setup.py) ... \u001b[?25l\u001b[?25hdone\n",
            "  Created wheel for stopit: filename=stopit-1.1.2-cp36-none-any.whl size=11956 sha256=ff911b0b4f3a0e67c9d9e4eaae797d1b627450bb9e074f20b567c9d6722ec17d\n",
            "  Stored in directory: /root/.cache/pip/wheels/3c/85/2b/2580190404636bfc63e8de3dff629c03bb795021e1983a6cc7\n",
            "Successfully built stopit\n",
            "Installing collected packages: deap, update-checker, stopit, tpot\n",
            "Successfully installed deap-1.3.1 stopit-1.1.2 tpot-0.11.5 update-checker-0.18.0\n"
          ],
          "name": "stdout"
        }
      ]
    },
    {
      "cell_type": "code",
      "metadata": {
        "id": "LsZtaSebb9jx"
      },
      "source": [
        "import os\n",
        "import pandas as pd\n",
        "from tqdm import tqdm\n",
        "import matplotlib.pyplot as plt\n",
        "from sklearn.linear_model import LogisticRegression\n",
        "from tpot import TPOTClassifier\n",
        "from sklearn.ensemble import RandomForestClassifier\n",
        "import numpy as np\n",
        "from sklearn.tree import export_graphviz\n",
        "from sklearn import svm\n",
        "from sklearn.model_selection import cross_val_score"
      ],
      "execution_count": 116,
      "outputs": []
    },
    {
      "cell_type": "markdown",
      "metadata": {
        "id": "jOb3a3npyzaK"
      },
      "source": [
        "# Data explanation\n",
        "The data .csv has the next format: \\\\\n",
        "  X ; Y; Z; Pressure; GripAngle; Timestamp; Test ID\n",
        "\n",
        "----------------\n",
        "Test ID: \\\\\n",
        "0: Static Spiral Test ( Draw on the given spiral pattern) \\\\\n",
        "1: Dynamic Spiral Test ( Spiral pattern will blink in a certain time, so subjects need to continue on their draw) \\\\\n",
        "2: Circular Motion Test (Subjectd draw circles around the red point)\n",
        "\n",
        "# Sources and explanation\n",
        "Isenkul, Muhammed & Sakar, Betul & Kursun, O.. (2014). Improved Spiral Test Using Digitized Graphics Tablet for Monitoring Parkinson’s Disease. 10.13140/RG.2.1.1898.6005. \n",
        "\n",
        "Sakar, Betul & Isenkul, Muhammed & Sakar, C. Okan & Sertbaş, Ahmet & Gurgen, F. & Delil, Sakir & Apaydin, Hulya & Kursun, Olcay. (2013). Collection and Analysis of a Parkinson Speech Dataset With Multiple Types of Sound Recordings. Biomedical and Health Informatics, IEEE Journal of. 17. 828-834. 10.1109/JBHI.2013.2245674. \n",
        "\n",
        "# Dataset\n",
        "https://archive.ics.uci.edu/ml/datasets/Parkinson+Disease+Spiral+Drawings+Using+Digitized+Graphics+Tablet\n"
      ]
    },
    {
      "cell_type": "markdown",
      "metadata": {
        "id": "34dawJiP-sYB"
      },
      "source": [
        "# Loading data\n",
        "We've got 2 different datasets:\n",
        "  \n",
        "\n",
        "*   **Control**: People who did the tests without having the Parkinson disease. \n",
        "*   **Parkinson**: People who did the tests having the Parkinson disease. \n",
        "\n",
        "*Note:* The parkinson dataset is splitted in two different paths, so we'll load both of them and then mix them."
      ]
    },
    {
      "cell_type": "code",
      "metadata": {
        "id": "urKCFnWNfK5C",
        "outputId": "27b8fbc1-b79a-4b81-f1e6-a958a657970c",
        "colab": {
          "base_uri": "https://localhost:8080/",
          "height": 68
        }
      },
      "source": [
        "CONTROL_DATASET_PATH = 'hw_dataset/control'\n",
        "PARKINSON_DATASET_PATH = 'hw_dataset/parkinson'\n",
        "PARKINSON_DATASET_PATH_2 = 'new_dataset/parkinson'\n",
        "\n",
        "\n",
        "def loadDatasets(control_path, parkinson_path):\n",
        "  COLUMN_NAMES = ['X', 'Y', 'Z', 'Pressure', 'GripAngle', 'Timestamp', 'Test ID','UserId']\n",
        "  userid = 0\n",
        "  #Load Control dataset\n",
        "  control_files = os.listdir(control_path)\n",
        "  df_control = pd.DataFrame(columns=COLUMN_NAMES)\n",
        "  #df_control.columns = COLUMN_NAMES\n",
        "  for i in tqdm(range(len(control_files)), desc= 'Control files: ', unit=' files'):\n",
        "    new_user_path = os.path.join(control_path, control_files[i])\n",
        "    new_user = pd.read_csv(new_user_path, header=None,  sep=';', names=COLUMN_NAMES)\n",
        "    new_user['UserId'] = userid\n",
        "    df_control = df_control.append(new_user)\n",
        "    userid +=1\n",
        "\n",
        "\n",
        "  #Load parkinson dataset\n",
        "  parkinson_files = os.listdir(parkinson_path)\n",
        "  df_parkinson = pd.DataFrame(columns=COLUMN_NAMES)\n",
        "\n",
        "  for j in tqdm(range(len(parkinson_files)), desc= 'Parkinson files: ', unit=' files'):\n",
        "    new_user_path = os.path.join(parkinson_path, parkinson_files[j])  \n",
        "    new_user = pd.read_csv(new_user_path, header=None,  sep=';',names=COLUMN_NAMES)\n",
        "    new_user['UserId'] = userid\n",
        "    df_parkinson = df_parkinson.append(new_user)\n",
        "    userid +=1\n",
        "\n",
        "  parkinson_files =  os.listdir(PARKINSON_DATASET_PATH_2)\n",
        "  for k in tqdm(range(len(parkinson_files)), desc= 'Parkinson files: ', unit=' files'):\n",
        "    new_user_path = os.path.join(PARKINSON_DATASET_PATH_2, parkinson_files[i])  \n",
        "    new_user = pd.read_csv(new_user_path, header=None,  sep=';')\n",
        "    new_user['UserId'] = userid\n",
        "    df_parkinson = df_parkinson.append(new_user)\n",
        "    userid +=1\n",
        "\n",
        "\n",
        "  return df_parkinson, df_control\n",
        "df_parkinson, df_control= loadDatasets(CONTROL_DATASET_PATH, PARKINSON_DATASET_PATH)\n"
      ],
      "execution_count": 5,
      "outputs": [
        {
          "output_type": "stream",
          "text": [
            "Control files: 100%|██████████| 15/15 [00:03<00:00,  3.82 files/s]\n",
            "Parkinson files: 100%|██████████| 25/25 [00:07<00:00,  3.29 files/s]\n",
            "Parkinson files: 100%|██████████| 37/37 [00:03<00:00, 10.35 files/s]\n"
          ],
          "name": "stderr"
        }
      ]
    },
    {
      "cell_type": "markdown",
      "metadata": {
        "id": "Qy1pWTBG_co6"
      },
      "source": [
        "# Getting variable variation\n",
        "We extract how much does a certain variable change during all the dataset"
      ]
    },
    {
      "cell_type": "code",
      "metadata": {
        "id": "2cOLG2GW2GwY"
      },
      "source": [
        "def getSubjectDeltas(subjectData):\n",
        "  subjectGripAngleDelta = 0\n",
        "  subjectPressureDelta = 0\n",
        "  subjectCoordDelta = 0\n",
        "  for i in range(len(subjectData)-1):\n",
        "    subjectGripAngleDelta += abs(subjectData['GripAngle'].iloc[i+1] - subjectData['GripAngle'].iloc[i])\n",
        "    \n",
        "    subjectPressureDelta += abs(subjectData['Pressure'].iloc[i+1] - subjectData['Pressure'].iloc[i])\n",
        "    subjectPressureDelta += abs(subjectData['Z'].iloc[i+1] - subjectData['Z'].iloc[i])\n",
        "\n",
        "    subjectCoordDelta+= abs(subjectData['X'].iloc[i+1] - subjectData['X'].iloc[i]) + abs(subjectData['Y'].iloc[i+1] - subjectData['Y'].iloc[i]) + abs(subjectData['Z'].iloc[i+1] - subjectData['Z'].iloc[i])\n",
        "\n",
        "  #Euclidean distance\n",
        "    #subjectCoordDelta += np.sqrt(np.power(subjectData['X'].iloc[i+1] - subjectData['X'].iloc[i],2) + np.power(subjectData['Y'].iloc[i+1] - subjectData['Y'].iloc[i],2) + np.power(subjectData['Z'].iloc[i+1] - subjectData['Z'].iloc[i],2))\n",
        "\n",
        "  return subjectGripAngleDelta, subjectPressureDelta, subjectCoordDelta\n"
      ],
      "execution_count": 148,
      "outputs": []
    },
    {
      "cell_type": "markdown",
      "metadata": {
        "id": "iHi2VB06zSeQ"
      },
      "source": [
        "We prepare the final dataset with the model will be trained and tested. So we will do some feature extraction and join the control dataset and the parkinson dataset.\n",
        "\n",
        "\n",
        "\n"
      ]
    },
    {
      "cell_type": "code",
      "metadata": {
        "id": "Og4qC4hyTqO_",
        "outputId": "8f8dafbd-7d0d-4723-858a-2fb4edfd4016",
        "colab": {
          "base_uri": "https://localhost:8080/",
          "height": 521
        }
      },
      "source": [
        "def extractFeatures(dataset, subjects, isParkinson):\n",
        "  NEW_COLUMNS = ['UserID', 'CoordinatesDelta','GripAngleVariance', 'GripAngleStd', 'GripAngleDelta', 'PressureVariance', 'PressureStd', 'PressureDelta', 'Duration', 'Test ID', 'Parkinson']\n",
        "  df_polished = pd.DataFrame(columns=NEW_COLUMNS)\n",
        "\n",
        "  for i in range(3):\n",
        "    for j in tqdm(range(len(subjects)), desc=f'Test : '):\n",
        "      df_subject = dataset[(dataset['Test ID'] ==i) & (dataset['UserId']==subjects[j])]\n",
        "      \n",
        "      if len(df_subject)>0:\n",
        "        #insert new values to the dataset\n",
        "        angleVariance = df_subject['GripAngle'].var()\n",
        "        angleStDeviation = df_subject['GripAngle'].std()\n",
        "\n",
        "        pressureVariance =  df_subject['Pressure'].var()\n",
        "        pressureStDeviation = df_subject['Pressure'].std()\n",
        "\n",
        "        startTime = df_subject['Timestamp'].iloc[0]\n",
        "        endTime = df_subject['Timestamp'].iloc[-1]\n",
        "        duration = endTime - startTime\n",
        "\n",
        "        gripAngleDelta, pressureDelta, coordDelta = getSubjectDeltas(df_subject)\n",
        "        gripAngleDelta = gripAngleDelta / duration\n",
        "        pressureeDelta = pressureDelta / duration\n",
        "        coordDelta = coordDelta / duration\n",
        "\n",
        "        df_polished = df_polished.append({'UserID': int(subjects[j]), 'CoordinatesDelta' : coordDelta, 'GripAngleVariance' : angleVariance, 'GripAngleStd' : angleStDeviation, 'GripAngleDelta' : gripAngleDelta, 'PressureVariance' : pressureVariance, 'PressureStd' : pressureStDeviation, 'PressureDelta' : pressureDelta, 'Duration' : duration, 'Test ID' : i, 'Parkinson' : isParkinson},ignore_index = True)\n",
        "        df_polished[['UserID', 'Duration', 'Test ID', 'Parkinson']] =  df_polished[['UserID', 'Duration', 'Test ID', 'Parkinson']].astype(int)\n",
        "  return df_polished\n",
        "\n",
        "def prepareDataset(controlDataset, parkinsonDataset):\n",
        "  control_usersId = controlDataset['UserId'].unique()\n",
        "  control_polished = extractFeatures(controlDataset, control_usersId, 0)\n",
        "\n",
        "  parkinson_usersId = parkinsonDataset['UserId'].unique()\n",
        "  parkinson_polished = extractFeatures(parkinsonDataset, parkinson_usersId, 1)\n",
        "\n",
        "  frames = [control_polished, parkinson_polished]\n",
        "  final_dataset = pd.concat(frames)\n",
        "  oneHot = pd.get_dummies(final_dataset['Test ID'], prefix='Test_ID')\n",
        "  final_dataset = final_dataset.join(oneHot)  \n",
        "  final_dataset = final_dataset.drop('Test ID', axis=1)\n",
        "  \n",
        "  return final_dataset\n",
        "final_dataset = prepareDataset(df_control, df_parkinson)\n",
        "final_dataset"
      ],
      "execution_count": 149,
      "outputs": [
        {
          "output_type": "stream",
          "text": [
            "Test : 100%|██████████| 15/15 [00:07<00:00,  2.10it/s]\n",
            "Test : 100%|██████████| 15/15 [00:07<00:00,  1.98it/s]\n",
            "Test : 100%|██████████| 15/15 [00:01<00:00,  8.74it/s]\n",
            "Test : 100%|██████████| 62/62 [00:12<00:00,  4.91it/s]\n",
            "Test : 100%|██████████| 62/62 [00:13<00:00,  4.75it/s]\n",
            "Test : 100%|██████████| 62/62 [00:07<00:00,  8.64it/s]\n"
          ],
          "name": "stderr"
        },
        {
          "output_type": "execute_result",
          "data": {
            "text/html": [
              "<div>\n",
              "<style scoped>\n",
              "    .dataframe tbody tr th:only-of-type {\n",
              "        vertical-align: middle;\n",
              "    }\n",
              "\n",
              "    .dataframe tbody tr th {\n",
              "        vertical-align: top;\n",
              "    }\n",
              "\n",
              "    .dataframe thead th {\n",
              "        text-align: right;\n",
              "    }\n",
              "</style>\n",
              "<table border=\"1\" class=\"dataframe\">\n",
              "  <thead>\n",
              "    <tr style=\"text-align: right;\">\n",
              "      <th></th>\n",
              "      <th>UserID</th>\n",
              "      <th>CoordinatesDelta</th>\n",
              "      <th>GripAngleVariance</th>\n",
              "      <th>GripAngleStd</th>\n",
              "      <th>GripAngleDelta</th>\n",
              "      <th>PressureVariance</th>\n",
              "      <th>PressureStd</th>\n",
              "      <th>PressureDelta</th>\n",
              "      <th>Duration</th>\n",
              "      <th>Parkinson</th>\n",
              "      <th>Test_ID_0</th>\n",
              "      <th>Test_ID_1</th>\n",
              "      <th>Test_ID_2</th>\n",
              "    </tr>\n",
              "  </thead>\n",
              "  <tbody>\n",
              "    <tr>\n",
              "      <th>0</th>\n",
              "      <td>0</td>\n",
              "      <td>0.331642</td>\n",
              "      <td>23503.860477</td>\n",
              "      <td>153.309688</td>\n",
              "      <td>1.625958</td>\n",
              "      <td>5512.006177</td>\n",
              "      <td>74.242886</td>\n",
              "      <td>10457.0</td>\n",
              "      <td>18137</td>\n",
              "      <td>0</td>\n",
              "      <td>1</td>\n",
              "      <td>0</td>\n",
              "      <td>0</td>\n",
              "    </tr>\n",
              "    <tr>\n",
              "      <th>0</th>\n",
              "      <td>0</td>\n",
              "      <td>0.331642</td>\n",
              "      <td>23503.860477</td>\n",
              "      <td>153.309688</td>\n",
              "      <td>1.625958</td>\n",
              "      <td>5512.006177</td>\n",
              "      <td>74.242886</td>\n",
              "      <td>10457.0</td>\n",
              "      <td>18137</td>\n",
              "      <td>0</td>\n",
              "      <td>1</td>\n",
              "      <td>0</td>\n",
              "      <td>0</td>\n",
              "    </tr>\n",
              "    <tr>\n",
              "      <th>0</th>\n",
              "      <td>15</td>\n",
              "      <td>0.202528</td>\n",
              "      <td>32133.589852</td>\n",
              "      <td>179.258444</td>\n",
              "      <td>0.692450</td>\n",
              "      <td>27831.318457</td>\n",
              "      <td>166.827211</td>\n",
              "      <td>13158.0</td>\n",
              "      <td>23814</td>\n",
              "      <td>1</td>\n",
              "      <td>1</td>\n",
              "      <td>0</td>\n",
              "      <td>0</td>\n",
              "    </tr>\n",
              "    <tr>\n",
              "      <th>0</th>\n",
              "      <td>15</td>\n",
              "      <td>0.202528</td>\n",
              "      <td>32133.589852</td>\n",
              "      <td>179.258444</td>\n",
              "      <td>0.692450</td>\n",
              "      <td>27831.318457</td>\n",
              "      <td>166.827211</td>\n",
              "      <td>13158.0</td>\n",
              "      <td>23814</td>\n",
              "      <td>1</td>\n",
              "      <td>1</td>\n",
              "      <td>0</td>\n",
              "      <td>0</td>\n",
              "    </tr>\n",
              "    <tr>\n",
              "      <th>1</th>\n",
              "      <td>1</td>\n",
              "      <td>0.304067</td>\n",
              "      <td>20211.096496</td>\n",
              "      <td>142.165736</td>\n",
              "      <td>1.115038</td>\n",
              "      <td>3224.260485</td>\n",
              "      <td>56.782572</td>\n",
              "      <td>11295.0</td>\n",
              "      <td>21219</td>\n",
              "      <td>0</td>\n",
              "      <td>1</td>\n",
              "      <td>0</td>\n",
              "      <td>0</td>\n",
              "    </tr>\n",
              "    <tr>\n",
              "      <th>...</th>\n",
              "      <td>...</td>\n",
              "      <td>...</td>\n",
              "      <td>...</td>\n",
              "      <td>...</td>\n",
              "      <td>...</td>\n",
              "      <td>...</td>\n",
              "      <td>...</td>\n",
              "      <td>...</td>\n",
              "      <td>...</td>\n",
              "      <td>...</td>\n",
              "      <td>...</td>\n",
              "      <td>...</td>\n",
              "      <td>...</td>\n",
              "    </tr>\n",
              "    <tr>\n",
              "      <th>68</th>\n",
              "      <td>35</td>\n",
              "      <td>0.327847</td>\n",
              "      <td>4711.990537</td>\n",
              "      <td>68.643940</td>\n",
              "      <td>1.130587</td>\n",
              "      <td>36321.531088</td>\n",
              "      <td>190.582085</td>\n",
              "      <td>20620.0</td>\n",
              "      <td>38396</td>\n",
              "      <td>1</td>\n",
              "      <td>0</td>\n",
              "      <td>0</td>\n",
              "      <td>1</td>\n",
              "    </tr>\n",
              "    <tr>\n",
              "      <th>69</th>\n",
              "      <td>36</td>\n",
              "      <td>0.514275</td>\n",
              "      <td>258.257857</td>\n",
              "      <td>16.070403</td>\n",
              "      <td>0.169978</td>\n",
              "      <td>21991.916184</td>\n",
              "      <td>148.296717</td>\n",
              "      <td>8490.0</td>\n",
              "      <td>13590</td>\n",
              "      <td>1</td>\n",
              "      <td>0</td>\n",
              "      <td>0</td>\n",
              "      <td>1</td>\n",
              "    </tr>\n",
              "    <tr>\n",
              "      <th>70</th>\n",
              "      <td>37</td>\n",
              "      <td>0.595638</td>\n",
              "      <td>9071.367686</td>\n",
              "      <td>95.243728</td>\n",
              "      <td>1.347038</td>\n",
              "      <td>0.000000</td>\n",
              "      <td>0.000000</td>\n",
              "      <td>6222.0</td>\n",
              "      <td>11967</td>\n",
              "      <td>1</td>\n",
              "      <td>0</td>\n",
              "      <td>0</td>\n",
              "      <td>1</td>\n",
              "    </tr>\n",
              "    <tr>\n",
              "      <th>71</th>\n",
              "      <td>38</td>\n",
              "      <td>0.439879</td>\n",
              "      <td>2236.877389</td>\n",
              "      <td>47.295638</td>\n",
              "      <td>1.254485</td>\n",
              "      <td>0.000000</td>\n",
              "      <td>0.000000</td>\n",
              "      <td>5970.0</td>\n",
              "      <td>14213</td>\n",
              "      <td>1</td>\n",
              "      <td>0</td>\n",
              "      <td>0</td>\n",
              "      <td>1</td>\n",
              "    </tr>\n",
              "    <tr>\n",
              "      <th>72</th>\n",
              "      <td>39</td>\n",
              "      <td>0.417710</td>\n",
              "      <td>359.756685</td>\n",
              "      <td>18.967253</td>\n",
              "      <td>0.383919</td>\n",
              "      <td>34469.161298</td>\n",
              "      <td>185.658723</td>\n",
              "      <td>8206.0</td>\n",
              "      <td>13258</td>\n",
              "      <td>1</td>\n",
              "      <td>0</td>\n",
              "      <td>0</td>\n",
              "      <td>1</td>\n",
              "    </tr>\n",
              "  </tbody>\n",
              "</table>\n",
              "<p>184 rows × 13 columns</p>\n",
              "</div>"
            ],
            "text/plain": [
              "    UserID  CoordinatesDelta  ...  Test_ID_1  Test_ID_2\n",
              "0        0          0.331642  ...          0          0\n",
              "0        0          0.331642  ...          0          0\n",
              "0       15          0.202528  ...          0          0\n",
              "0       15          0.202528  ...          0          0\n",
              "1        1          0.304067  ...          0          0\n",
              "..     ...               ...  ...        ...        ...\n",
              "68      35          0.327847  ...          0          1\n",
              "69      36          0.514275  ...          0          1\n",
              "70      37          0.595638  ...          0          1\n",
              "71      38          0.439879  ...          0          1\n",
              "72      39          0.417710  ...          0          1\n",
              "\n",
              "[184 rows x 13 columns]"
            ]
          },
          "metadata": {
            "tags": []
          },
          "execution_count": 149
        }
      ]
    },
    {
      "cell_type": "markdown",
      "metadata": {
        "id": "swv2V37T1hTM"
      },
      "source": [
        "# Data visualization"
      ]
    },
    {
      "cell_type": "code",
      "metadata": {
        "id": "ebz_a5stUQJg",
        "outputId": "c1370237-cc37-42be-c0de-0f5e03ed62bb",
        "colab": {
          "base_uri": "https://localhost:8080/",
          "height": 281
        }
      },
      "source": [
        "control_data = final_dataset[final_dataset['Parkinson']==0]\n",
        "control_grip = control_data['GripAngleStd']\n",
        "control_time = control_data['Duration']\n",
        "controlY = control_grip.to_list()\n",
        "controlX = control_time.to_list()\n",
        "\n",
        "parkinson_data = final_dataset[final_dataset['Parkinson']==1]\n",
        "parkinson_grip = parkinson_data['GripAngleStd']\n",
        "parkinson_time = parkinson_data['Duration']\n",
        "parkinsonY = parkinson_grip.to_list()\n",
        "parkinsonX = parkinson_time.to_list()\n",
        "\n",
        "plt.plot( parkinsonX, parkinsonY,'ro', controlX, controlY,  'bo' )\n",
        "plt.title('Grip Angle variance in PD subjects')\n",
        "plt.show()\n",
        "\n"
      ],
      "execution_count": 151,
      "outputs": [
        {
          "output_type": "display_data",
          "data": {
            "image/png": "[encoded data removed]",
            "text/plain": [
              "<Figure size 432x288 with 1 Axes>"
            ]
          },
          "metadata": {
            "tags": [],
            "needs_background": "light"
          }
        }
      ]
    },
    {
      "cell_type": "markdown",
      "metadata": {
        "id": "tD2SZoJ4OYoz"
      },
      "source": [
        "# Prepare the training and test datasets\n",
        "\n"
      ]
    },
    {
      "cell_type": "code",
      "metadata": {
        "id": "UNvj9VonOXt9"
      },
      "source": [
        "trainX = final_dataset[0::2]\n",
        "trainY = trainX['Parkinson']\n",
        "trainX = trainX.drop(['UserID','Parkinson', 'Test_ID_0', 'Test_ID_1', 'Test_ID_2'],1)\n",
        "\n",
        "testX = final_dataset[1::2]\n",
        "testY = testX['Parkinson']\n",
        "testX = testX.drop(['UserID','Parkinson', 'Test_ID_0', 'Test_ID_1', 'Test_ID_2'],1)"
      ],
      "execution_count": 169,
      "outputs": []
    },
    {
      "cell_type": "code",
      "metadata": {
        "id": "2Xh5YvUZV5eN",
        "outputId": "9b358cd0-0b4d-4781-ddca-48ee28d01557",
        "colab": {
          "base_uri": "https://localhost:8080/",
          "height": 102
        }
      },
      "source": [
        "lr = LogisticRegression()\n",
        "lr.fit(trainX, trainY)"
      ],
      "execution_count": 170,
      "outputs": [
        {
          "output_type": "execute_result",
          "data": {
            "text/plain": [
              "LogisticRegression(C=1.0, class_weight=None, dual=False, fit_intercept=True,\n",
              "                   intercept_scaling=1, l1_ratio=None, max_iter=100,\n",
              "                   multi_class='auto', n_jobs=None, penalty='l2',\n",
              "                   random_state=None, solver='lbfgs', tol=0.0001, verbose=0,\n",
              "                   warm_start=False)"
            ]
          },
          "metadata": {
            "tags": []
          },
          "execution_count": 170
        }
      ]
    },
    {
      "cell_type": "code",
      "metadata": {
        "id": "D9cKC5MnWSwW",
        "outputId": "71cb7236-3bd3-4b05-ac2f-17a9a91a2813",
        "colab": {
          "base_uri": "https://localhost:8080/",
          "height": 34
        }
      },
      "source": [
        "lr.predict(testX)\n",
        "lr.score(testX, testY)"
      ],
      "execution_count": 171,
      "outputs": [
        {
          "output_type": "execute_result",
          "data": {
            "text/plain": [
              "0.7717391304347826"
            ]
          },
          "metadata": {
            "tags": []
          },
          "execution_count": 171
        }
      ]
    },
    {
      "cell_type": "code",
      "metadata": {
        "id": "HM_ssH0fXOfF",
        "outputId": "85228f0b-1713-4832-dae2-46f044c2b09d",
        "colab": {
          "base_uri": "https://localhost:8080/",
          "height": 357,
          "referenced_widgets": [
            "54fcd1a6e4284031b084122162b59371",
            "12c817a895ea40539df816a4ee623394",
            "e25f1e0c12c24894a6470cb890bb2972",
            "b3bef2ae4bba491eaa0d9ba568ca2249",
            "9e4be80aee5e480a84e3b35bba382890",
            "6f796f1eb88f4898aec44ec6a9e02ec5",
            "56adf2f6cb9845bf86221f9b92e49516",
            "ef9004e3da3c4b15b510921d4e5500bc"
          ]
        }
      },
      "source": [
        "tpot = TPOTClassifier(generations=10, verbosity=2)\n",
        "tpot.fit(trainX, trainY)"
      ],
      "execution_count": 172,
      "outputs": [
        {
          "output_type": "display_data",
          "data": {
            "application/vnd.jupyter.widget-view+json": {
              "model_id": "54fcd1a6e4284031b084122162b59371",
              "version_minor": 0,
              "version_major": 2
            },
            "text/plain": [
              "HBox(children=(FloatProgress(value=0.0, description='Optimization Progress', max=1100.0, style=ProgressStyle(d…"
            ]
          },
          "metadata": {
            "tags": []
          }
        },
        {
          "output_type": "stream",
          "text": [
            "\n",
            "Generation 1 - Current best internal CV score: 0.8801169590643274\n",
            "Generation 2 - Current best internal CV score: 0.9239766081871345\n",
            "Generation 3 - Current best internal CV score: 0.9239766081871345\n",
            "Generation 4 - Current best internal CV score: 0.9239766081871345\n",
            "Generation 5 - Current best internal CV score: 0.9239766081871345\n",
            "Generation 6 - Current best internal CV score: 0.9239766081871345\n",
            "Generation 7 - Current best internal CV score: 0.9239766081871345\n",
            "Generation 8 - Current best internal CV score: 0.9239766081871345\n",
            "Generation 9 - Current best internal CV score: 0.9239766081871345\n",
            "Generation 10 - Current best internal CV score: 0.9251461988304094\n",
            "Best pipeline: ExtraTreesClassifier(PCA(input_matrix, iterated_power=5, svd_solver=randomized), bootstrap=False, criterion=entropy, max_features=0.4, min_samples_leaf=1, min_samples_split=13, n_estimators=100)\n"
          ],
          "name": "stdout"
        },
        {
          "output_type": "execute_result",
          "data": {
            "text/plain": [
              "TPOTClassifier(config_dict=None, crossover_rate=0.1, cv=5,\n",
              "               disable_update_check=False, early_stop=None, generations=10,\n",
              "               log_file=<ipykernel.iostream.OutStream object at 0x7f04a2c05b70>,\n",
              "               max_eval_time_mins=5, max_time_mins=None, memory=None,\n",
              "               mutation_rate=0.9, n_jobs=1, offspring_size=None,\n",
              "               periodic_checkpoint_folder=None, population_size=100,\n",
              "               random_state=None, scoring=None, subsample=1.0, template=None,\n",
              "               use_dask=False, verbosity=2, warm_start=False)"
            ]
          },
          "metadata": {
            "tags": []
          },
          "execution_count": 172
        }
      ]
    },
    {
      "cell_type": "code",
      "metadata": {
        "id": "2xfVzuTffX6e",
        "outputId": "c7424f47-d69d-4133-e5e0-b6161f5f7f46",
        "colab": {
          "base_uri": "https://localhost:8080/",
          "height": 34
        }
      },
      "source": [
        "rf = RandomForestClassifier()\n",
        "rf.fit(trainX, trainY)\n",
        "rf.score(testX, testY)"
      ],
      "execution_count": 165,
      "outputs": [
        {
          "output_type": "execute_result",
          "data": {
            "text/plain": [
              "0.967391304347826"
            ]
          },
          "metadata": {
            "tags": []
          },
          "execution_count": 165
        }
      ]
    },
    {
      "cell_type": "code",
      "metadata": {
        "id": "NB0Et_kdhS4k",
        "outputId": "84527698-a314-42b7-ed22-aa7b8ebaa181",
        "colab": {
          "base_uri": "https://localhost:8080/",
          "height": 34
        }
      },
      "source": [
        "svc = svm.SVC()\n",
        "svc.fit(trainX, trainY)\n",
        "svc.score(testX, testY)"
      ],
      "execution_count": 167,
      "outputs": [
        {
          "output_type": "execute_result",
          "data": {
            "text/plain": [
              "0.8695652173913043"
            ]
          },
          "metadata": {
            "tags": []
          },
          "execution_count": 167
        }
      ]
    },
    {
      "cell_type": "code",
      "metadata": {
        "id": "PxaVMg9yktPN",
        "outputId": "60073fee-3af1-459c-d1da-d3107f974633",
        "colab": {
          "base_uri": "https://localhost:8080/",
          "height": 68
        }
      },
      "source": [
        "cross_val_Y = final_dataset['Parkinson']\n",
        "cross_val_X = final_dataset.drop(['UserID', 'Parkinson', 'Test_ID_0', 'Test_ID_1', 'Test_ID_2'],1)\n",
        "\n",
        "scores = cross_val_score(lr, cross_val_X, cross_val_Y, cv = 100)\n",
        "np.mean(scores)"
      ],
      "execution_count": 146,
      "outputs": [
        {
          "output_type": "stream",
          "text": [
            "/usr/local/lib/python3.6/dist-packages/sklearn/model_selection/_split.py:667: UserWarning: The least populated class in y has only 74 members, which is less than n_splits=100.\n",
            "  % (min_groups, self.n_splits)), UserWarning)\n"
          ],
          "name": "stderr"
        },
        {
          "output_type": "execute_result",
          "data": {
            "text/plain": [
              "0.715"
            ]
          },
          "metadata": {
            "tags": []
          },
          "execution_count": 146
        }
      ]
    },
    {
      "cell_type": "code",
      "metadata": {
        "id": "w1erE96caPkE",
        "outputId": "b2ae13fa-1fc1-4b8a-f9b9-18b13f6172ab",
        "colab": {
          "base_uri": "https://localhost:8080/",
          "height": 34
        }
      },
      "source": [
        "np.argsort(lr.coef_)"
      ],
      "execution_count": 168,
      "outputs": [
        {
          "output_type": "execute_result",
          "data": {
            "text/plain": [
              "array([[ 2,  5,  8,  6,  9,  1,  3,  7,  0,  4, 10]])"
            ]
          },
          "metadata": {
            "tags": []
          },
          "execution_count": 168
        }
      ]
    }
  ]
}