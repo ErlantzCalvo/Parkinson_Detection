{
  "nbformat": 4,
  "nbformat_minor": 0,
  "metadata": {
    "colab": {
      "name": "Parkinson_disease.ipynb",
      "provenance": [],
      "collapsed_sections": [],
      "include_colab_link": true
    },
    "kernelspec": {
      "name": "python3",
      "display_name": "Python 3"
    }
  },
  "cells": [
    {
      "cell_type": "markdown",
      "metadata": {
        "id": "view-in-github",
        "colab_type": "text"
      },
      "source": [
        "<a href=\"https://colab.research.google.com/github/ErlantzCalvo/Parkinson_Detection/blob/erlantz/Parkinson_disease.ipynb\" target=\"_parent\"><img src=\"https://colab.research.google.com/assets/colab-badge.svg\" alt=\"Open In Colab\"/></a>"
      ]
    },
    {
      "cell_type": "code",
      "metadata": {
        "id": "GiiHFcofzstQ",
        "outputId": "62d5911b-fd21-4919-d151-f809629c6d45",
        "colab": {
          "base_uri": "https://localhost:8080/",
          "height": 34
        }
      },
      "source": [
        "from google.colab import drive \n",
        "drive.mount('/content/drive')\n"
      ],
      "execution_count": 2,
      "outputs": [
        {
          "output_type": "stream",
          "text": [
            "Mounted at /content/drive\n"
          ],
          "name": "stdout"
        }
      ]
    },
    {
      "cell_type": "code",
      "metadata": {
        "id": "rK-uRpfD0Euc",
        "outputId": "de7cad97-8e87-43ec-d24e-4068166f2bee",
        "colab": {
          "base_uri": "https://localhost:8080/",
          "height": 68
        }
      },
      "source": [
        "%cd drive/My\\ Drive\n",
        "%cd 'Colab Notebooks/'\n",
        "%cd 'datasets/ParkinsonDisease/'"
      ],
      "execution_count": 3,
      "outputs": [
        {
          "output_type": "stream",
          "text": [
            "/content/drive/My Drive\n",
            "/content/drive/My Drive/Colab Notebooks\n",
            "/content/drive/My Drive/Colab Notebooks/datasets/ParkinsonDisease\n"
          ],
          "name": "stdout"
        }
      ]
    },
    {
      "cell_type": "code",
      "metadata": {
        "id": "LsZtaSebb9jx"
      },
      "source": [
        "import os\n",
        "import pandas as pd\n",
        "from tqdm import tqdm\n",
        "import matplotlib.pyplot as plt\n"
      ],
      "execution_count": 43,
      "outputs": []
    },
    {
      "cell_type": "markdown",
      "metadata": {
        "id": "jOb3a3npyzaK"
      },
      "source": [
        "# Data explanation\n",
        "The data .csv has the next format: \\\\\n",
        "  X ; Y; Z; Pressure; GripAngle; Timestamp; Test ID\n",
        "\n",
        "----------------\n",
        "Test ID: \\\\\n",
        "0: Static Spiral Test ( Draw on the given spiral pattern) \\\\\n",
        "1: Dynamic Spiral Test ( Spiral pattern will blink in a certain time, so subjects need to continue on their draw) \\\\\n",
        "2: Circular Motion Test (Subjectd draw circles around the red point)\n",
        "\n",
        "# Sources and explanation\n",
        "Isenkul, Muhammed & Sakar, Betul & Kursun, O.. (2014). Improved Spiral Test Using Digitized Graphics Tablet for Monitoring Parkinson’s Disease. 10.13140/RG.2.1.1898.6005. \n",
        "\n",
        "Sakar, Betul & Isenkul, Muhammed & Sakar, C. Okan & Sertbaş, Ahmet & Gurgen, F. & Delil, Sakir & Apaydin, Hulya & Kursun, Olcay. (2013). Collection and Analysis of a Parkinson Speech Dataset With Multiple Types of Sound Recordings. Biomedical and Health Informatics, IEEE Journal of. 17. 828-834. 10.1109/JBHI.2013.2245674. \n",
        "\n",
        "# Dataset\n",
        "https://archive.ics.uci.edu/ml/datasets/Parkinson+Disease+Spiral+Drawings+Using+Digitized+Graphics+Tablet\n"
      ]
    },
    {
      "cell_type": "markdown",
      "metadata": {
        "id": "34dawJiP-sYB"
      },
      "source": [
        "# Loading data\n",
        "We've got 2 different datasets:\n",
        "  \n",
        "\n",
        "*   **Control**: People who did the tests without having the Parkinson disease. \n",
        "*   **Parkinson**: People who did the tests having the Parkinson disease. \n",
        "\n",
        "*Note:* The parkinson dataset is splitted in two different paths, so we'll load both of them and then mix them."
      ]
    },
    {
      "cell_type": "code",
      "metadata": {
        "id": "urKCFnWNfK5C",
        "outputId": "3da83c72-87d0-4bf8-e542-9f004f9bab3c",
        "colab": {
          "base_uri": "https://localhost:8080/",
          "height": 51
        }
      },
      "source": [
        "CONTROL_DATASET_PATH = 'hw_dataset/control'\n",
        "PARKINSON_DATASET_PATH = 'hw_dataset/parkinson'\n",
        "PARKINSON_DATASET_PATH_2 = 'new_dataset/parkinson'\n",
        "\n",
        "\n",
        "def loadDatasets(control_path, parkinson_path):\n",
        "  COLUMN_NAMES = ['X', 'Y', 'Z', 'Pressure', 'GripAngle', 'Timestamp', 'Test ID','UserId']\n",
        "  userid = 0\n",
        "  #Load Control dataset\n",
        "  control_files = os.listdir(control_path)\n",
        "  df_control = pd.DataFrame(columns=COLUMN_NAMES)\n",
        "  #df_control.columns = COLUMN_NAMES\n",
        "  for i in tqdm(range(len(control_files)), desc= 'Control files: ', unit=' files'):\n",
        "    new_user_path = os.path.join(control_path, control_files[i])\n",
        "    new_user = pd.read_csv(new_user_path, header=None,  sep=';', names=COLUMN_NAMES)\n",
        "    new_user['UserId'] = userid\n",
        "    df_control = df_control.append(new_user)\n",
        "    userid +=1\n",
        "\n",
        "  \n",
        "\n",
        "\n",
        "  #Load parkinson dataset\n",
        "  parkinson_files = os.listdir(parkinson_path)\n",
        "  df_parkinson = pd.DataFrame(columns=COLUMN_NAMES)\n",
        "\n",
        "  for j in tqdm(range(len(parkinson_files)), desc= 'Parkinson files: ', unit=' files'):\n",
        "    new_user_path = os.path.join(parkinson_path, parkinson_files[j])  \n",
        "    new_user = pd.read_csv(new_user_path, header=None,  sep=';',names=COLUMN_NAMES)\n",
        "    new_user['UserId'] = userid\n",
        "    df_parkinson = df_parkinson.append(new_user)\n",
        "    userid +=1\n",
        "\n",
        "  '''parkinson_files =  os.listdir(PARKINSON_DATASET_PATH_2)\n",
        "  for k in tqdm(range(len(parkinson_files)), desc= 'Parkinson files: ', unit=' files'):\n",
        "    new_user_path = os.path.join(PARKINSON_DATASET_PATH_2, parkinson_files[i])  \n",
        "    new_user = pd.read_csv(new_user_path, header=None,  sep=';')\n",
        "    new_user['UserId'] = userid\n",
        "    df_parkinson = df_parkinson.append(new_user)\n",
        "    userid +=1'''\n",
        "\n",
        "\n",
        "  #df_parkinson.columns = COLUMN_NAMES\n",
        "  return df_parkinson, df_control\n",
        "df_parkinson, df_control= loadDatasets(CONTROL_DATASET_PATH, PARKINSON_DATASET_PATH)\n"
      ],
      "execution_count": 27,
      "outputs": [
        {
          "output_type": "stream",
          "text": [
            "Control files: 100%|██████████| 15/15 [00:00<00:00, 59.41 files/s]\n",
            "Parkinson files: 100%|██████████| 25/25 [00:00<00:00, 52.63 files/s]\n"
          ],
          "name": "stderr"
        }
      ]
    },
    {
      "cell_type": "code",
      "metadata": {
        "id": "V81X5kmMzpRI"
      },
      "source": [
        "\n",
        "for k in range(3):\n",
        "  j=15\n",
        "  print(f'Test nº {k}\\n\\n')\n",
        "  for i in range(15):\n",
        "    pd_angle = df_parkinson[(df_parkinson['UserId'] ==j) & (df_parkinson['Test ID']==k)]\n",
        "    c_angle = df_control[(df_control['UserId'] ==i) & (df_control['Test ID']==k)]\n",
        "\n",
        "    if len(pd_angle)<1 or len(c_angle)<1:\n",
        "      j+=1\n",
        "      continue\n",
        "    pd_start_time = pd_angle['Timestamp'].iloc[0]\n",
        "    pd_end_time = pd_angle['Timestamp'].iloc[-1]\n",
        "    duration = pd_end_time - pd_start_time\n",
        "    print(f'Parkinson  -->   Variance: {pd_angle[\"GripAngle\"].var()}   Standard deviation: {pd_angle[\"GripAngle\"].std()}    Time: {duration} ms')\n",
        "\n",
        "    \n",
        "    pd_start_time = c_angle['Timestamp'].iloc[0]\n",
        "    pd_end_time = c_angle['Timestamp'].iloc[-1]\n",
        "    duration = pd_end_time - pd_start_time\n",
        "    print(f'Control    -->   Variance: {c_angle[\"GripAngle\"].var()}   Standard deviation: { c_angle[\"GripAngle\"].std()}     Time: {duration} ms')\n",
        "    print('-'*10)\n",
        "    j+=1"
      ],
      "execution_count": null,
      "outputs": []
    },
    {
      "cell_type": "markdown",
      "metadata": {
        "id": "iHi2VB06zSeQ"
      },
      "source": [
        "We prepare the final dataset with the model will be trained and tested. So we will do some feature extraction and join the control dataset and the parkinson dataset.\n",
        "\n",
        "\n",
        "\n"
      ]
    },
    {
      "cell_type": "code",
      "metadata": {
        "id": "Og4qC4hyTqO_",
        "outputId": "5fecccdd-71db-4cfb-a36b-6c3fdd417671",
        "colab": {
          "base_uri": "https://localhost:8080/",
          "height": 419
        }
      },
      "source": [
        "def extractFeatures(dataset, subjects, isParkinson):\n",
        "  NEW_COLUMNS = ['UserID', 'GripAngleVariance', 'GripAngleStd', 'PressureVariance', 'PressureStd', 'Duration', 'Test ID', 'Parkinson']\n",
        "  df_polished = pd.DataFrame(columns=NEW_COLUMNS)\n",
        "\n",
        "  for i in range(3):\n",
        "    for j in range(len(subjects)):\n",
        "      df_subject = dataset[(dataset['Test ID'] ==i) & (dataset['UserId']==subjects[j])]\n",
        "      \n",
        "      if len(df_subject)>0:\n",
        "        #insert new values to the dataset\n",
        "        angleVariance = df_subject['GripAngle'].var()\n",
        "        angleStDeviation = df_subject['GripAngle'].std()\n",
        "\n",
        "        pressureVariance =  df_subject['Pressure'].var()\n",
        "        pressureStDeviation = df_subject['Pressure'].std()\n",
        "\n",
        "        startTime = df_subject['Timestamp'].iloc[0]\n",
        "        endTime = df_subject['Timestamp'].iloc[-1]\n",
        "        duration = endTime - startTime\n",
        "\n",
        "        df_polished = df_polished.append({'UserID': int(subjects[j]), 'GripAngleVariance' : angleVariance, 'GripAngleStd' : angleStDeviation, 'PressureVariance' : pressureVariance, 'PressureStd' : pressureStDeviation, 'Duration' : duration, 'Test ID' : i, 'Parkinson' : isParkinson},ignore_index = True)\n",
        "        df_polished[['UserID', 'Duration', 'Test ID', 'Parkinson']] =  df_polished[['UserID', 'Duration', 'Test ID', 'Parkinson']].astype(int)\n",
        "  return df_polished\n",
        "\n",
        "def prepareDataset(controlDataset, parkinsonDataset):\n",
        "  control_usersId = controlDataset['UserId'].unique()\n",
        "  control_polished = extractFeatures(controlDataset, control_usersId, 0)\n",
        "\n",
        "  parkinson_usersId = parkinsonDataset['UserId'].unique()\n",
        "  parkinson_polished = extractFeatures(parkinsonDataset, parkinson_usersId, 1)\n",
        "\n",
        "  frames = [control_polished, parkinson_polished]\n",
        "  final_dataset = pd.concat(frames)\n",
        "  \n",
        "  return final_dataset\n",
        "final_dataset = prepareDataset(df_control, df_parkinson)\n",
        "final_dataset"
      ],
      "execution_count": 41,
      "outputs": [
        {
          "output_type": "execute_result",
          "data": {
            "text/html": [
              "<div>\n",
              "<style scoped>\n",
              "    .dataframe tbody tr th:only-of-type {\n",
              "        vertical-align: middle;\n",
              "    }\n",
              "\n",
              "    .dataframe tbody tr th {\n",
              "        vertical-align: top;\n",
              "    }\n",
              "\n",
              "    .dataframe thead th {\n",
              "        text-align: right;\n",
              "    }\n",
              "</style>\n",
              "<table border=\"1\" class=\"dataframe\">\n",
              "  <thead>\n",
              "    <tr style=\"text-align: right;\">\n",
              "      <th></th>\n",
              "      <th>UserID</th>\n",
              "      <th>GripAngleVariance</th>\n",
              "      <th>GripAngleStd</th>\n",
              "      <th>PressureVariance</th>\n",
              "      <th>PressureStd</th>\n",
              "      <th>Duration</th>\n",
              "      <th>Test ID</th>\n",
              "      <th>Parkinson</th>\n",
              "    </tr>\n",
              "  </thead>\n",
              "  <tbody>\n",
              "    <tr>\n",
              "      <th>0</th>\n",
              "      <td>0</td>\n",
              "      <td>23503.860477</td>\n",
              "      <td>153.309688</td>\n",
              "      <td>5512.006177</td>\n",
              "      <td>74.242886</td>\n",
              "      <td>18137</td>\n",
              "      <td>0</td>\n",
              "      <td>0</td>\n",
              "    </tr>\n",
              "    <tr>\n",
              "      <th>1</th>\n",
              "      <td>1</td>\n",
              "      <td>20211.096496</td>\n",
              "      <td>142.165736</td>\n",
              "      <td>3224.260485</td>\n",
              "      <td>56.782572</td>\n",
              "      <td>21219</td>\n",
              "      <td>0</td>\n",
              "      <td>0</td>\n",
              "    </tr>\n",
              "    <tr>\n",
              "      <th>2</th>\n",
              "      <td>2</td>\n",
              "      <td>23453.945369</td>\n",
              "      <td>153.146810</td>\n",
              "      <td>3321.122674</td>\n",
              "      <td>57.629182</td>\n",
              "      <td>48428</td>\n",
              "      <td>0</td>\n",
              "      <td>0</td>\n",
              "    </tr>\n",
              "    <tr>\n",
              "      <th>3</th>\n",
              "      <td>3</td>\n",
              "      <td>16846.073495</td>\n",
              "      <td>129.792425</td>\n",
              "      <td>1787.981835</td>\n",
              "      <td>42.284534</td>\n",
              "      <td>24521</td>\n",
              "      <td>0</td>\n",
              "      <td>0</td>\n",
              "    </tr>\n",
              "    <tr>\n",
              "      <th>4</th>\n",
              "      <td>4</td>\n",
              "      <td>22162.988710</td>\n",
              "      <td>148.872391</td>\n",
              "      <td>4067.676182</td>\n",
              "      <td>63.778336</td>\n",
              "      <td>39335</td>\n",
              "      <td>0</td>\n",
              "      <td>0</td>\n",
              "    </tr>\n",
              "    <tr>\n",
              "      <th>...</th>\n",
              "      <td>...</td>\n",
              "      <td>...</td>\n",
              "      <td>...</td>\n",
              "      <td>...</td>\n",
              "      <td>...</td>\n",
              "      <td>...</td>\n",
              "      <td>...</td>\n",
              "      <td>...</td>\n",
              "    </tr>\n",
              "    <tr>\n",
              "      <th>68</th>\n",
              "      <td>35</td>\n",
              "      <td>4711.990537</td>\n",
              "      <td>68.643940</td>\n",
              "      <td>36321.531088</td>\n",
              "      <td>190.582085</td>\n",
              "      <td>38396</td>\n",
              "      <td>2</td>\n",
              "      <td>1</td>\n",
              "    </tr>\n",
              "    <tr>\n",
              "      <th>69</th>\n",
              "      <td>36</td>\n",
              "      <td>258.257857</td>\n",
              "      <td>16.070403</td>\n",
              "      <td>21991.916184</td>\n",
              "      <td>148.296717</td>\n",
              "      <td>13590</td>\n",
              "      <td>2</td>\n",
              "      <td>1</td>\n",
              "    </tr>\n",
              "    <tr>\n",
              "      <th>70</th>\n",
              "      <td>37</td>\n",
              "      <td>9071.367686</td>\n",
              "      <td>95.243728</td>\n",
              "      <td>0.000000</td>\n",
              "      <td>0.000000</td>\n",
              "      <td>11967</td>\n",
              "      <td>2</td>\n",
              "      <td>1</td>\n",
              "    </tr>\n",
              "    <tr>\n",
              "      <th>71</th>\n",
              "      <td>38</td>\n",
              "      <td>2236.877389</td>\n",
              "      <td>47.295638</td>\n",
              "      <td>0.000000</td>\n",
              "      <td>0.000000</td>\n",
              "      <td>14213</td>\n",
              "      <td>2</td>\n",
              "      <td>1</td>\n",
              "    </tr>\n",
              "    <tr>\n",
              "      <th>72</th>\n",
              "      <td>39</td>\n",
              "      <td>359.756685</td>\n",
              "      <td>18.967253</td>\n",
              "      <td>34469.161298</td>\n",
              "      <td>185.658723</td>\n",
              "      <td>13258</td>\n",
              "      <td>2</td>\n",
              "      <td>1</td>\n",
              "    </tr>\n",
              "  </tbody>\n",
              "</table>\n",
              "<p>110 rows × 8 columns</p>\n",
              "</div>"
            ],
            "text/plain": [
              "    UserID  GripAngleVariance  GripAngleStd  ...  Duration  Test ID  Parkinson\n",
              "0        0       23503.860477    153.309688  ...     18137        0          0\n",
              "1        1       20211.096496    142.165736  ...     21219        0          0\n",
              "2        2       23453.945369    153.146810  ...     48428        0          0\n",
              "3        3       16846.073495    129.792425  ...     24521        0          0\n",
              "4        4       22162.988710    148.872391  ...     39335        0          0\n",
              "..     ...                ...           ...  ...       ...      ...        ...\n",
              "68      35        4711.990537     68.643940  ...     38396        2          1\n",
              "69      36         258.257857     16.070403  ...     13590        2          1\n",
              "70      37        9071.367686     95.243728  ...     11967        2          1\n",
              "71      38        2236.877389     47.295638  ...     14213        2          1\n",
              "72      39         359.756685     18.967253  ...     13258        2          1\n",
              "\n",
              "[110 rows x 8 columns]"
            ]
          },
          "metadata": {
            "tags": []
          },
          "execution_count": 41
        }
      ]
    },
    {
      "cell_type": "code",
      "metadata": {
        "id": "ebz_a5stUQJg",
        "outputId": "78790d94-5cf6-4c5c-846d-71780c37fb55",
        "colab": {
          "base_uri": "https://localhost:8080/",
          "height": 265
        }
      },
      "source": [
        "control_data = final_dataset[final_dataset['Parkinson']==0]\n",
        "control_grip = control_data['GripAngleVariance']\n",
        "controlX = control_grip.to_list()\n",
        "\n",
        "parkinson_data = final_dataset[final_dataset['Parkinson']==1]\n",
        "parkinson_grip = parkinson_data['GripAngleVariance']\n",
        "parkinsonX = parkinson_grip.to_list()\n",
        "\n",
        "plt.plot( parkinsonX[:37], controlX, 'bo')\n",
        "plt.show()"
      ],
      "execution_count": 59,
      "outputs": [
        {
          "output_type": "display_data",
          "data": {
            "image/png": "[encoded data removed]",
            "text/plain": [
              "<Figure size 432x288 with 1 Axes>"
            ]
          },
          "metadata": {
            "tags": [],
            "needs_background": "light"
          }
        }
      ]
    }
  ]
}