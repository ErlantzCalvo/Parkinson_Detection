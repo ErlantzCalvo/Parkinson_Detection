{
  "nbformat": 4,
  "nbformat_minor": 0,
  "metadata": {
    "colab": {
      "name": "Parkinson_disease.ipynb",
      "provenance": []
    }
  },
  "cells": [
    {
      "cell_type": "code",
      "metadata": {
        "id": "BNEWeJXA6hGS",
        "outputId": "bf3fc675-a037-40c0-b1b1-3714645082ec"
      },
      "source": [
        "%cd 'pd_datasets//'"
      ],
      "execution_count": null,
      "outputs": [
        {
          "output_type": "stream",
          "text": [
            "/workspace/pd_datasets\n"
          ],
          "name": "stdout"
        }
      ]
    },
    {
      "cell_type": "code",
      "metadata": {
        "id": "nyodptfy6hGe"
      },
      "source": [
        "import os\n",
        "import pandas as pd\n",
        "from tqdm import tqdm\n",
        "import matplotlib.pyplot as plt\n",
        "from sklearn.linear_model import LogisticRegression\n",
        "from tpot import TPOTClassifier\n",
        "from sklearn.ensemble import RandomForestClassifier\n",
        "import numpy as np\n",
        "from sklearn.tree import export_graphviz\n",
        "from sklearn import svm\n",
        "from sklearn.model_selection import cross_val_score, StratifiedKFold, train_test_split, KFold\n",
        "from sklearn.metrics import accuracy_score, balanced_accuracy_score, confusion_matrix"
      ],
      "execution_count": null,
      "outputs": []
    },
    {
      "cell_type": "markdown",
      "metadata": {
        "id": "yXkL39MI6hGi"
      },
      "source": [
        "# Data explanation\n",
        "The data .csv has the next format: \\\n",
        "  X ; Y; Z; Pressure; GripAngle; Timestamp; Test ID\n",
        "\n",
        "----------------\n",
        "Test ID: \\\n",
        "0: Static Spiral Test ( Draw on the given spiral pattern) \\\n",
        "1: Dynamic Spiral Test ( Spiral pattern will blink in a certain time, so subjects need to continue on their draw) \\\n",
        "2: Circular Motion Test (Subjectd draw circles around the red point)\n",
        "\n",
        "# Sources and explanation\n",
        "Isenkul, Muhammed & Sakar, Betul & Kursun, O.. (2014). Improved Spiral Test Using Digitized Graphics Tablet for Monitoring Parkinson’s Disease. 10.13140/RG.2.1.1898.6005. \n",
        "\n",
        "Sakar, Betul & Isenkul, Muhammed & Sakar, C. Okan & Sertbaş, Ahmet & Gurgen, F. & Delil, Sakir & Apaydin, Hulya & Kursun, Olcay. (2013). Collection and Analysis of a Parkinson Speech Dataset With Multiple Types of Sound Recordings. Biomedical and Health Informatics, IEEE Journal of. 17. 828-834. 10.1109/JBHI.2013.2245674. \n",
        "\n",
        "[Dataset](https://archive.ics.uci.edu/ml/datasets/Parkinson+Disease+Spiral+Drawings+Using+Digitized+Graphics+Tablet\n",
        ")"
      ]
    },
    {
      "cell_type": "markdown",
      "metadata": {
        "id": "fPfgXEET6hGi"
      },
      "source": [
        "# Loading data\n",
        "We've got 2 different datasets:\n",
        "  \n",
        "\n",
        "*   **Control**: People who did the tests without having the Parkinson disease. \n",
        "*   **Parkinson**: People who did the tests having the Parkinson disease. \n",
        "\n",
        "*Note:* The parkinson dataset is splitted in two different paths, so we'll load both of them and then mix them up."
      ]
    },
    {
      "cell_type": "code",
      "metadata": {
        "id": "Dtu6xxwp6hGj",
        "outputId": "02a65240-b3f5-44b0-91c2-8f39b8e323a3"
      },
      "source": [
        "CONTROL_DATASET_PATH = 'hw_dataset/control'\n",
        "PARKINSON_DATASET_PATH = 'hw_dataset/parkinson'\n",
        "PARKINSON_DATASET_PATH_2 = 'new_dataset/parkinson'\n",
        "\n",
        "\n",
        "def load_datasets(control_path, parkinson_path):\n",
        "  COLUMN_NAMES = ['X', 'Y', 'Z', 'Pressure', 'GripAngle', 'Timestamp', 'Test ID','UserId']\n",
        "  userid = 0\n",
        "\n",
        "  #Load Control dataset\n",
        "  control_files = os.listdir(control_path)\n",
        "  df_control = pd.DataFrame(columns=COLUMN_NAMES)\n",
        " \n",
        "  for i in tqdm(range(len(control_files)), desc= 'Control files: ', unit=' files'):\n",
        "    new_user_path = os.path.join(control_path, control_files[i])\n",
        "    new_user = pd.read_csv(new_user_path, header=None,  sep=';', names=COLUMN_NAMES)\n",
        "    new_user['UserId'] = userid\n",
        "    df_control = df_control.append(new_user)\n",
        "    userid +=1\n",
        "\n",
        "\n",
        "  #Load parkinson dataset\n",
        "  parkinson_files = os.listdir(parkinson_path)\n",
        "  df_parkinson = pd.DataFrame(columns=COLUMN_NAMES)\n",
        "\n",
        "  for j in tqdm(range(len(parkinson_files)), desc= 'Parkinson files: ', unit=' files'):\n",
        "    new_user_path = os.path.join(parkinson_path, parkinson_files[j])  \n",
        "    new_user = pd.read_csv(new_user_path, header=None,  sep=';',names=COLUMN_NAMES)\n",
        "    new_user['UserId'] = userid\n",
        "    df_parkinson = df_parkinson.append(new_user)\n",
        "    userid +=1\n",
        "\n",
        "  parkinson_files =  os.listdir(PARKINSON_DATASET_PATH_2)\n",
        "  for k in tqdm(range(len(parkinson_files)), desc= 'Parkinson files: ', unit=' files'):\n",
        "    new_user_path = os.path.join(PARKINSON_DATASET_PATH_2, parkinson_files[i])  \n",
        "    new_user = pd.read_csv(new_user_path, header=None,  sep=';')\n",
        "    new_user['UserId'] = userid\n",
        "    df_parkinson = df_parkinson.append(new_user)\n",
        "    userid +=1\n",
        "\n",
        "\n",
        "  return df_parkinson, df_control\n",
        "df_parkinson, df_control= load_datasets(CONTROL_DATASET_PATH, PARKINSON_DATASET_PATH)\n"
      ],
      "execution_count": null,
      "outputs": [
        {
          "output_type": "stream",
          "text": [
            "\rControl files:   0%|          | 0/15 [00:00<?, ? files/s]\rControl files:  47%|████▋     | 7/15 [00:00<00:00, 69.89 files/s]\rControl files:  67%|██████▋   | 10/15 [00:00<00:00, 44.16 files/s]\rControl files: 100%|██████████| 15/15 [00:00<00:00, 44.28 files/s]\rControl files: 100%|██████████| 15/15 [00:00<00:00, 44.15 files/s]\n",
            "\rParkinson files:   0%|          | 0/25 [00:00<?, ? files/s]\rParkinson files:  28%|██▊       | 7/25 [00:00<00:00, 64.06 files/s]\rParkinson files:  52%|█████▏    | 13/25 [00:00<00:00, 60.69 files/s]\rParkinson files:  68%|██████▊   | 17/25 [00:00<00:00, 51.63 files/s]\rParkinson files:  84%|████████▍ | 21/25 [00:00<00:00, 45.36 files/s]\rParkinson files: 100%|██████████| 25/25 [00:00<00:00, 40.12 files/s]\rParkinson files: 100%|██████████| 25/25 [00:00<00:00, 44.21 files/s]\n",
            "\rParkinson files:   0%|          | 0/37 [00:00<?, ? files/s]\rParkinson files:   5%|▌         | 2/37 [00:00<00:01, 17.68 files/s]\rParkinson files:  11%|█         | 4/37 [00:00<00:01, 17.39 files/s]\rParkinson files:  16%|█▌        | 6/37 [00:00<00:01, 16.28 files/s]\rParkinson files:  22%|██▏       | 8/37 [00:00<00:01, 15.75 files/s]\rParkinson files:  27%|██▋       | 10/37 [00:00<00:01, 15.18 files/s]\rParkinson files:  32%|███▏      | 12/37 [00:00<00:01, 14.58 files/s]\rParkinson files:  38%|███▊      | 14/37 [00:00<00:01, 14.47 files/s]\rParkinson files:  43%|████▎     | 16/37 [00:01<00:01, 13.73 files/s]\rParkinson files:  49%|████▊     | 18/37 [00:01<00:01, 13.41 files/s]\rParkinson files:  54%|█████▍    | 20/37 [00:01<00:01, 13.28 files/s]\rParkinson files:  59%|█████▉    | 22/37 [00:01<00:01, 12.82 files/s]\rParkinson files:  65%|██████▍   | 24/37 [00:01<00:01, 12.39 files/s]\rParkinson files:  70%|███████   | 26/37 [00:01<00:00, 12.35 files/s]\rParkinson files:  76%|███████▌  | 28/37 [00:02<00:00, 11.86 files/s]\rParkinson files:  81%|████████  | 30/37 [00:02<00:00, 11.28 files/s]\rParkinson files:  86%|████████▋ | 32/37 [00:02<00:00, 11.26 files/s]\rParkinson files:  92%|█████████▏| 34/37 [00:02<00:00, 10.93 files/s]\rParkinson files:  97%|█████████▋| 36/37 [00:02<00:00, 10.62 files/s]\rParkinson files: 100%|██████████| 37/37 [00:02<00:00, 12.44 files/s]\n"
          ],
          "name": "stderr"
        }
      ]
    },
    {
      "cell_type": "markdown",
      "metadata": {
        "id": "MRjRAX6d6hGn"
      },
      "source": [
        "# Test visualization\n",
        "Here we can see some of the subjects tests from the given data. On the left the control subjects and, on the right, the Parkinson disease subjects. "
      ]
    },
    {
      "cell_type": "code",
      "metadata": {
        "id": "r1bHpQa06hGo",
        "outputId": "25e5301c-817c-4428-b042-a0837f8178aa"
      },
      "source": [
        "# Number of samples to be displayed\n",
        "n_samples = 3\n",
        "\n",
        "# Test id to be displayed\n",
        "test_num = 0\n",
        "\n",
        "for i in range(n_samples):\n",
        "    uid= np.random.randint(0,14)\n",
        "\n",
        "    # Control sample\n",
        "    plt.figure()\n",
        "    x_draw = df_control[(df_control['UserId']==uid) & (df_control['Test ID']==test_num)]\n",
        "    y_draw = x_draw['Y'].to_list()\n",
        "    x_draw = x_draw['X'].to_list()\n",
        "    plt.subplot(1,2,1)\n",
        "    plt.plot(x_draw, y_draw)\n",
        "    plt.title('Control with id {}'.format(uid))\n",
        "\n",
        "    # PD sample\n",
        "    x_draw_p = df_parkinson[(df_parkinson['UserId'] == (uid+15)) & (df_parkinson['Test ID'] == test_num)]\n",
        "    y_draw_p = x_draw_p['Y'].to_list()\n",
        "    x_draw_p = x_draw_p['X'].to_list()\n",
        "    plt.subplot(1,2,2)\n",
        "    plt.plot(x_draw_p, y_draw_p)\n",
        "    plt.title('PD with id {}'.format(uid+15))\n",
        "    plt.show()"
      ],
      "execution_count": null,
      "outputs": [
        {
          "output_type": "display_data",
          "data": {
            "image/png": "[encoded data removed]"
          },
          "metadata": {
            "tags": [],
            "image/png": {
              "width": 0,
              "height": 0
            }
          }
        }
      ]
    },
    {
      "cell_type": "markdown",
      "metadata": {
        "id": "n0FmKdfN6hGs"
      },
      "source": [
        "# Getting variable variation\n",
        "We extract how much does a certain variable change through the time along all the dataset. These new variables represent the change of certain value (pressure, grip angle, coordinates) from one sample to another.\n",
        "\n",
        "New variables:\n",
        "- **GripAngleDelta**: sum of the changes of the grip angle of the pen.\n",
        "- **PressureDelta**: sum of the change* of the applied pressure on the pen. The grip Z value is also taken as a preassure because \n",
        "  if user's pulse trembles he may raise his hand.\n",
        "- **CoordDelta**: sum changes of the coordenates of the pen.\n",
        "\n",
        "*'change' represents the substraction between a measure in a 't+1' time and another measure in a 't' time.*"
      ]
    },
    {
      "cell_type": "code",
      "metadata": {
        "id": "ERFySdyh6hGt"
      },
      "source": [
        "def get_subject_deltas(subject_data):\n",
        "  subject_grip_angle_delta = 0\n",
        "  subject_pressure_delta = 0\n",
        "  subject_coord_delta = 0\n",
        "  for i in range(len(subject_data) - 1):\n",
        "    # Grip angle variation\n",
        "    subject_grip_angle_delta += abs(subject_data['GripAngle'].iloc[i + 1] - subject_data['GripAngle'].iloc[i])\n",
        "    \n",
        "    # Pressure variation\n",
        "    subject_pressure_delta += abs(subject_data['Pressure'].iloc[i + 1] - subject_data['Pressure'].iloc[i])\n",
        "    subject_pressure_delta += abs(subject_data['Z'].iloc[i + 1] - subject_data['Z'].iloc[i])\n",
        "\n",
        "    # Coordinates angle variation\n",
        "    subject_coord_delta+= abs(subject_data['X'].iloc[i + 1] - subject_data['X'].iloc[i]) + abs(subject_data['Y'].iloc[i + 1] - subject_data['Y'].iloc[i]) + abs(subject_data['Z'].iloc[i + 1] - subject_data['Z'].iloc[i])\n",
        "\n",
        "  return subject_grip_angle_delta, subject_pressure_delta, subject_coord_delta"
      ],
      "execution_count": null,
      "outputs": []
    },
    {
      "cell_type": "markdown",
      "metadata": {
        "id": "h_prrHvd6hGx"
      },
      "source": [
        "# Final dataset preparation\n",
        "We prepare the final dataset to be trained and tested, so we will do some feature extraction and join the control dataset and the parkinson dataset.\n",
        "\n",
        "Once taken the new features, we construct new statistic ones based on the variance and the std. deviation of the pressure, angle and coordinates:\n",
        "\n",
        "- **GripAngleVariance**\n",
        "- **GripAngleStd**\n",
        "- **PressureVariance**\n",
        "- **PressureStd**\n"
      ]
    },
    {
      "cell_type": "code",
      "metadata": {
        "id": "4uUItfIo6hGy",
        "outputId": "637ff40a-90df-400f-c9c1-3dff7758351d"
      },
      "source": [
        "def extract_features(dataset, subjects, is_parkinson):\n",
        "  NEW_COLUMNS = ['UserID', 'CoordinatesDelta','GripAngleVariance', 'GripAngleStd', 'GripAngleDelta', 'PressureVariance', 'PressureStd', 'PressureDelta', 'Duration', 'Test ID', 'Parkinson']\n",
        "  df_polished = pd.DataFrame(columns=NEW_COLUMNS)\n",
        "\n",
        "  # Loop to iterate over the 3 possible tests\n",
        "  for _ in range(3):\n",
        "\n",
        "    # Loop to iterate over all the subjects passed as argument\n",
        "    for j in tqdm(range(len(subjects)), desc=f'Test : '):\n",
        "      df_subject = dataset[(dataset['Test ID'] ==i) & (dataset['UserId']==subjects[j])]\n",
        "      \n",
        "      if len(df_subject)>0:\n",
        "        #insert new values to the dataset\n",
        "        angle_variance = df_subject['GripAngle'].var()\n",
        "        angle_st_deviation = df_subject['GripAngle'].std()\n",
        "\n",
        "        pressure_variance =  df_subject['Pressure'].var()\n",
        "        pressure_st_deviation = df_subject['Pressure'].std()\n",
        "\n",
        "        # Getting de current test duration (end time - start time)\n",
        "        start_time = df_subject['Timestamp'].iloc[0]\n",
        "        end_time = df_subject['Timestamp'].iloc[-1]\n",
        "        duration = end_time - start_time\n",
        "\n",
        "        # Get all the variations and divide them by the time to have all the subjects in the same\n",
        "        # variation/time relationship\n",
        "        grip_angle_delta, pressure_delta, coord_delta = get_subject_deltas(df_subject)\n",
        "        grip_angle_delta = grip_angle_delta / duration\n",
        "        pressure_delta = pressure_delta / duration\n",
        "        coord_delta = coord_delta / duration\n",
        "\n",
        "        df_polished = df_polished.append({'UserID': int(subjects[j]), 'CoordinatesDelta' : coord_delta, 'GripAngleVariance' : angle_variance, 'GripAngleStd' : angle_st_deviation, 'GripAngleDelta' : grip_angle_delta, 'PressureVariance' : pressure_variance, 'PressureStd' : pressure_st_deviation, 'PressureDelta' : pressure_delta, 'Duration' : duration, 'Test ID' : i, 'Parkinson' : is_parkinson}, ignore_index = True)\n",
        "        df_polished[['UserID', 'Duration', 'Test ID', 'Parkinson']] =  df_polished[['UserID', 'Duration', 'Test ID', 'Parkinson']].astype(int)\n",
        "  return df_polished\n",
        "\n",
        "def prepare_dataset(control_dataset, parkinson_dataset):\n",
        "  # Get all control users id\n",
        "  control_users_id = control_dataset['UserId'].unique()\n",
        "  control_polished = extract_features(control_dataset, control_users_id, 0)\n",
        "\n",
        "  # Get all PD users id\n",
        "  parkinson_users_id = parkinson_dataset['UserId'].unique()\n",
        "  parkinson_polished = extract_features(parkinson_dataset, parkinson_users_id, 1)\n",
        "\n",
        "  frames = [control_polished, parkinson_polished]\n",
        "  final_dataset = pd.concat(frames)\n",
        "\n",
        "  # Make a one hot encoding to the test id column because there are values between 0 and 2 and, when multyplying\n",
        "  # this variables with a weight or a given value, the 3rd test will always have more importance than the other two\n",
        "  # and that's not the idea\n",
        "  one_hot = pd.get_dummies(final_dataset['Test ID'], prefix='Test_ID')\n",
        "  \n",
        "  final_dataset = final_dataset.join(one_hot)  \n",
        "  final_dataset = final_dataset.drop('Test ID', axis=1)\n",
        "  \n",
        "  return final_dataset\n",
        "final_dataset = prepare_dataset(df_control, df_parkinson)\n",
        "final_dataset"
      ],
      "execution_count": null,
      "outputs": [
        {
          "output_type": "stream",
          "text": [
            "\rTest :   0%|          | 0/15 [00:00<?, ?it/s]\rTest :   7%|▋         | 1/15 [00:00<00:04,  3.04it/s]\rTest :  13%|█▎        | 2/15 [00:00<00:05,  2.40it/s]\rTest :  20%|██        | 3/15 [00:01<00:04,  2.43it/s]\rTest :  27%|██▋       | 4/15 [00:01<00:04,  2.63it/s]\rTest :  33%|███▎      | 5/15 [00:02<00:05,  1.91it/s]\rTest :  40%|████      | 6/15 [00:02<00:04,  2.03it/s]\rTest :  47%|████▋     | 7/15 [00:03<00:04,  1.66it/s]\rTest :  53%|█████▎    | 8/15 [00:04<00:03,  1.76it/s]\rTest :  60%|██████    | 9/15 [00:05<00:04,  1.40it/s]\rTest :  67%|██████▋   | 10/15 [00:05<00:03,  1.55it/s]\rTest :  73%|███████▎  | 11/15 [00:06<00:02,  1.73it/s]\rTest :  80%|████████  | 12/15 [00:06<00:01,  1.75it/s]\rTest :  87%|████████▋ | 13/15 [00:07<00:01,  1.89it/s]\rTest :  93%|█████████▎| 14/15 [00:07<00:00,  2.27it/s]\rTest : 100%|██████████| 15/15 [00:08<00:00,  1.70it/s]\rTest : 100%|██████████| 15/15 [00:08<00:00,  1.79it/s]\n",
            "\rTest :   0%|          | 0/15 [00:00<?, ?it/s]\rTest :   7%|▋         | 1/15 [00:00<00:05,  2.77it/s]\rTest :  13%|█▎        | 2/15 [00:00<00:05,  2.26it/s]\rTest :  20%|██        | 3/15 [00:01<00:05,  2.30it/s]\rTest :  27%|██▋       | 4/15 [00:01<00:04,  2.48it/s]\rTest :  33%|███▎      | 5/15 [00:02<00:06,  1.59it/s]\rTest :  40%|████      | 6/15 [00:03<00:05,  1.69it/s]\rTest :  47%|████▋     | 7/15 [00:04<00:05,  1.51it/s]\rTest :  53%|█████▎    | 8/15 [00:04<00:04,  1.73it/s]\rTest :  60%|██████    | 9/15 [00:05<00:04,  1.35it/s]\rTest :  67%|██████▋   | 10/15 [00:06<00:03,  1.49it/s]\rTest :  73%|███████▎  | 11/15 [00:06<00:02,  1.71it/s]\rTest :  80%|████████  | 12/15 [00:07<00:01,  1.76it/s]\rTest :  87%|████████▋ | 13/15 [00:07<00:01,  1.92it/s]\rTest :  93%|█████████▎| 14/15 [00:07<00:00,  2.24it/s]\rTest : 100%|██████████| 15/15 [00:08<00:00,  1.62it/s]\rTest : 100%|██████████| 15/15 [00:08<00:00,  1.69it/s]\n",
            "\rTest :   0%|          | 0/15 [00:00<?, ?it/s]\rTest :  27%|██▋       | 4/15 [00:00<00:00, 11.73it/s]\rTest :  47%|████▋     | 7/15 [00:00<00:00, 10.93it/s]\rTest :  53%|█████▎    | 8/15 [00:00<00:00,  7.05it/s]\rTest :  60%|██████    | 9/15 [00:01<00:01,  5.62it/s]\rTest :  87%|████████▋ | 13/15 [00:01<00:00,  6.67it/s]\rTest :  93%|█████████▎| 14/15 [00:01<00:00,  5.47it/s]\rTest : 100%|██████████| 15/15 [00:02<00:00,  4.89it/s]\rTest : 100%|██████████| 15/15 [00:02<00:00,  7.37it/s]\n",
            "\rTest :   0%|          | 0/62 [00:00<?, ?it/s]\rTest :   2%|▏         | 1/62 [00:00<00:30,  2.03it/s]\rTest :   3%|▎         | 2/62 [00:00<00:27,  2.17it/s]\rTest :   5%|▍         | 3/62 [00:01<00:28,  2.07it/s]\rTest :   6%|▋         | 4/62 [00:01<00:29,  1.97it/s]\rTest :   8%|▊         | 5/62 [00:02<00:26,  2.17it/s]\rTest :  10%|▉         | 6/62 [00:02<00:21,  2.63it/s]\rTest :  11%|█▏        | 7/62 [00:03<00:27,  2.02it/s]\rTest :  13%|█▎        | 8/62 [00:03<00:25,  2.11it/s]\rTest :  15%|█▍        | 9/62 [00:04<00:25,  2.10it/s]\rTest :  16%|█▌        | 10/62 [00:05<00:34,  1.52it/s]\rTest :  18%|█▊        | 11/62 [00:05<00:31,  1.63it/s]\rTest :  19%|█▉        | 12/62 [00:06<00:28,  1.73it/s]\rTest :  21%|██        | 13/62 [00:06<00:23,  2.13it/s]\rTest :  23%|██▎       | 14/62 [00:07<00:28,  1.70it/s]\rTest :  24%|██▍       | 15/62 [00:07<00:26,  1.77it/s]\rTest :  26%|██▌       | 16/62 [00:08<00:27,  1.65it/s]\rTest :  27%|██▋       | 17/62 [00:09<00:28,  1.59it/s]\rTest :  29%|██▉       | 18/62 [00:09<00:25,  1.75it/s]\rTest :  31%|███       | 19/62 [00:10<00:24,  1.78it/s]\rTest :  32%|███▏      | 20/62 [00:10<00:22,  1.87it/s]\rTest :  34%|███▍      | 21/62 [00:11<00:24,  1.64it/s]\rTest :  35%|███▌      | 22/62 [00:11<00:21,  1.90it/s]\rTest :  37%|███▋      | 23/62 [00:13<00:35,  1.11it/s]\rTest :  39%|███▊      | 24/62 [00:14<00:32,  1.15it/s]\rTest :  40%|████      | 25/62 [00:14<00:25,  1.47it/s]\rTest :  44%|████▎     | 27/62 [00:14<00:17,  2.01it/s]\rTest :  47%|████▋     | 29/62 [00:14<00:12,  2.70it/s]\rTest :  50%|█████     | 31/62 [00:15<00:08,  3.54it/s]\rTest :  53%|█████▎    | 33/62 [00:15<00:06,  4.53it/s]\rTest :  56%|█████▋    | 35/62 [00:15<00:04,  5.65it/s]\rTest :  60%|█████▉    | 37/62 [00:15<00:03,  6.82it/s]\rTest :  63%|██████▎   | 39/62 [00:15<00:02,  7.98it/s]\rTest :  66%|██████▌   | 41/62 [00:15<00:02,  9.06it/s]\rTest :  69%|██████▉   | 43/62 [00:15<00:01, 10.03it/s]\rTest :  73%|███████▎  | 45/62 [00:16<00:01, 10.86it/s]\rTest :  76%|███████▌  | 47/62 [00:16<00:01, 11.52it/s]\rTest :  79%|███████▉  | 49/62 [00:16<00:01, 12.03it/s]\rTest :  82%|████████▏ | 51/62 [00:16<00:00, 12.40it/s]\rTest :  85%|████████▌ | 53/62 [00:16<00:00, 12.68it/s]\rTest :  89%|████████▊ | 55/62 [00:16<00:00, 12.87it/s]\rTest :  92%|█████████▏| 57/62 [00:17<00:00, 13.04it/s]\rTest :  95%|█████████▌| 59/62 [00:17<00:00, 13.16it/s]\rTest :  98%|█████████▊| 61/62 [00:17<00:00, 13.23it/s]\rTest : 100%|██████████| 62/62 [00:17<00:00,  3.56it/s]\n",
            "\rTest :   0%|          | 0/62 [00:00<?, ?it/s]\rTest :   2%|▏         | 1/62 [00:00<00:22,  2.77it/s]\rTest :   3%|▎         | 2/62 [00:00<00:21,  2.77it/s]\rTest :   5%|▍         | 3/62 [00:01<00:30,  1.91it/s]\rTest :   6%|▋         | 4/62 [00:02<00:28,  2.03it/s]\rTest :   8%|▊         | 5/62 [00:02<00:25,  2.26it/s]\rTest :  10%|▉         | 6/62 [00:02<00:20,  2.79it/s]\rTest :  11%|█▏        | 7/62 [00:03<00:24,  2.29it/s]\rTest :  13%|█▎        | 8/62 [00:03<00:26,  2.02it/s]\rTest :  15%|█▍        | 9/62 [00:04<00:24,  2.20it/s]\rTest :  16%|█▌        | 10/62 [00:05<00:35,  1.47it/s]\rTest :  18%|█▊        | 11/62 [00:06<00:35,  1.46it/s]\rTest :  19%|█▉        | 12/62 [00:06<00:32,  1.54it/s]\rTest :  21%|██        | 13/62 [00:06<00:25,  1.94it/s]\rTest :  23%|██▎       | 14/62 [00:07<00:25,  1.90it/s]\rTest :  24%|██▍       | 15/62 [00:07<00:23,  2.02it/s]\rTest :  26%|██▌       | 16/62 [00:08<00:22,  2.00it/s]\rTest :  27%|██▋       | 17/62 [00:09<00:27,  1.63it/s]\rTest :  29%|██▉       | 18/62 [00:09<00:23,  1.87it/s]\rTest :  31%|███       | 19/62 [00:10<00:23,  1.85it/s]\rTest :  32%|███▏      | 20/62 [00:10<00:22,  1.87it/s]\rTest :  34%|███▍      | 21/62 [00:11<00:31,  1.31it/s]\rTest :  35%|███▌      | 22/62 [00:12<00:27,  1.45it/s]\rTest :  37%|███▋      | 23/62 [00:13<00:34,  1.13it/s]\rTest :  39%|███▊      | 24/62 [00:14<00:29,  1.28it/s]\rTest :  40%|████      | 25/62 [00:14<00:22,  1.66it/s]\rTest :  44%|████▎     | 27/62 [00:14<00:15,  2.25it/s]\rTest :  47%|████▋     | 29/62 [00:14<00:10,  3.00it/s]\rTest :  50%|█████     | 31/62 [00:14<00:07,  3.92it/s]\rTest :  53%|█████▎    | 33/62 [00:15<00:05,  4.99it/s]\rTest :  56%|█████▋    | 35/62 [00:15<00:04,  6.15it/s]\rTest :  60%|█████▉    | 37/62 [00:15<00:03,  7.35it/s]\rTest :  63%|██████▎   | 39/62 [00:15<00:02,  8.53it/s]\rTest :  66%|██████▌   | 41/62 [00:15<00:02,  9.59it/s]\rTest :  69%|██████▉   | 43/62 [00:15<00:01, 10.52it/s]\rTest :  73%|███████▎  | 45/62 [00:15<00:01, 11.28it/s]\rTest :  76%|███████▌  | 47/62 [00:16<00:01, 11.89it/s]\rTest :  79%|███████▉  | 49/62 [00:16<00:01, 12.34it/s]\rTest :  82%|████████▏ | 51/62 [00:16<00:00, 12.70it/s]\rTest :  85%|████████▌ | 53/62 [00:16<00:00, 12.96it/s]\rTest :  89%|████████▊ | 55/62 [00:16<00:00, 13.15it/s]\rTest :  92%|█████████▏| 57/62 [00:16<00:00, 13.27it/s]\rTest :  95%|█████████▌| 59/62 [00:16<00:00, 13.39it/s]\rTest :  98%|█████████▊| 61/62 [00:17<00:00, 13.44it/s]\rTest : 100%|██████████| 62/62 [00:17<00:00,  3.60it/s]\n",
            "\rTest :   0%|          | 0/62 [00:00<?, ?it/s]\rTest :   2%|▏         | 1/62 [00:00<00:18,  3.31it/s]\rTest :   3%|▎         | 2/62 [00:00<00:18,  3.31it/s]\rTest :   5%|▍         | 3/62 [00:00<00:18,  3.24it/s]\rTest :   6%|▋         | 4/62 [00:01<00:17,  3.26it/s]\rTest :   8%|▊         | 5/62 [00:01<00:18,  3.02it/s]\rTest :  11%|█▏        | 7/62 [00:02<00:16,  3.41it/s]\rTest :  13%|█▎        | 8/62 [00:02<00:15,  3.38it/s]\rTest :  15%|█▍        | 9/62 [00:02<00:15,  3.33it/s]\rTest :  16%|█▌        | 10/62 [00:02<00:15,  3.44it/s]\rTest :  18%|█▊        | 11/62 [00:03<00:15,  3.36it/s]\rTest :  19%|█▉        | 12/62 [00:03<00:15,  3.27it/s]\rTest :  21%|██        | 13/62 [00:03<00:14,  3.29it/s]\rTest :  23%|██▎       | 14/62 [00:04<00:14,  3.40it/s]\rTest :  24%|██▍       | 15/62 [00:04<00:13,  3.49it/s]\rTest :  26%|██▌       | 16/62 [00:04<00:12,  3.59it/s]\rTest :  27%|██▋       | 17/62 [00:04<00:13,  3.42it/s]\rTest :  29%|██▉       | 18/62 [00:05<00:13,  3.38it/s]\rTest :  31%|███       | 19/62 [00:05<00:13,  3.23it/s]\rTest :  34%|███▍      | 21/62 [00:05<00:10,  3.73it/s]\rTest :  35%|███▌      | 22/62 [00:06<00:10,  3.76it/s]\rTest :  37%|███▋      | 23/62 [00:07<00:16,  2.33it/s]\rTest :  39%|███▊      | 24/62 [00:07<00:14,  2.64it/s]\rTest :  40%|████      | 25/62 [00:07<00:12,  3.04it/s]\rTest :  44%|████▎     | 27/62 [00:07<00:08,  3.96it/s]\rTest :  47%|████▋     | 29/62 [00:07<00:06,  5.02it/s]\rTest :  50%|█████     | 31/62 [00:07<00:05,  6.19it/s]\rTest :  53%|█████▎    | 33/62 [00:08<00:03,  7.38it/s]\rTest :  56%|█████▋    | 35/62 [00:08<00:03,  8.54it/s]\rTest :  60%|█████▉    | 37/62 [00:08<00:02,  9.58it/s]\rTest :  63%|██████▎   | 39/62 [00:08<00:02, 10.47it/s]\rTest :  66%|██████▌   | 41/62 [00:08<00:01, 11.21it/s]\rTest :  69%|██████▉   | 43/62 [00:08<00:01, 11.78it/s]\rTest :  73%|███████▎  | 45/62 [00:08<00:01, 12.22it/s]\rTest :  76%|███████▌  | 47/62 [00:09<00:01, 12.58it/s]\rTest :  79%|███████▉  | 49/62 [00:09<00:01, 12.84it/s]\rTest :  82%|████████▏ | 51/62 [00:09<00:00, 13.04it/s]\rTest :  85%|████████▌ | 53/62 [00:09<00:00, 13.19it/s]\rTest :  89%|████████▊ | 55/62 [00:09<00:00, 13.38it/s]\rTest :  92%|█████████▏| 57/62 [00:09<00:00, 13.45it/s]\rTest :  95%|█████████▌| 59/62 [00:10<00:00, 13.43it/s]\rTest :  98%|█████████▊| 61/62 [00:10<00:00, 13.42it/s]\rTest : 100%|██████████| 62/62 [00:10<00:00,  6.05it/s]\n"
          ],
          "name": "stderr"
        },
        {
          "output_type": "display_data",
          "data": {
            "text/html": [
              "<div>\n",
              "<style scoped>\n",
              "    .dataframe tbody tr th:only-of-type {\n",
              "        vertical-align: middle;\n",
              "    }\n",
              "\n",
              "    .dataframe tbody tr th {\n",
              "        vertical-align: top;\n",
              "    }\n",
              "\n",
              "    .dataframe thead th {\n",
              "        text-align: right;\n",
              "    }\n",
              "</style>\n",
              "<table border=\"1\" class=\"dataframe\">\n",
              "  <thead>\n",
              "    <tr style=\"text-align: right;\">\n",
              "      <th></th>\n",
              "      <th>UserID</th>\n",
              "      <th>CoordinatesDelta</th>\n",
              "      <th>GripAngleVariance</th>\n",
              "      <th>GripAngleStd</th>\n",
              "      <th>GripAngleDelta</th>\n",
              "      <th>PressureVariance</th>\n",
              "      <th>PressureStd</th>\n",
              "      <th>PressureDelta</th>\n",
              "      <th>Duration</th>\n",
              "      <th>Parkinson</th>\n",
              "      <th>Test_ID_0</th>\n",
              "      <th>Test_ID_1</th>\n",
              "      <th>Test_ID_2</th>\n",
              "    </tr>\n",
              "  </thead>\n",
              "  <tbody>\n",
              "    <tr>\n",
              "      <th>0</th>\n",
              "      <td>0</td>\n",
              "      <td>0.343655</td>\n",
              "      <td>24859.868842</td>\n",
              "      <td>157.670127</td>\n",
              "      <td>2.061069</td>\n",
              "      <td>7093.398992</td>\n",
              "      <td>84.222319</td>\n",
              "      <td>7851.0</td>\n",
              "      <td>13886</td>\n",
              "      <td>0</td>\n",
              "      <td>1</td>\n",
              "      <td>0</td>\n",
              "      <td>0</td>\n",
              "    </tr>\n",
              "    <tr>\n",
              "      <th>0</th>\n",
              "      <td>0</td>\n",
              "      <td>0.343655</td>\n",
              "      <td>24859.868842</td>\n",
              "      <td>157.670127</td>\n",
              "      <td>2.061069</td>\n",
              "      <td>7093.398992</td>\n",
              "      <td>84.222319</td>\n",
              "      <td>7851.0</td>\n",
              "      <td>13886</td>\n",
              "      <td>0</td>\n",
              "      <td>1</td>\n",
              "      <td>0</td>\n",
              "      <td>0</td>\n",
              "    </tr>\n",
              "    <tr>\n",
              "      <th>0</th>\n",
              "      <td>15</td>\n",
              "      <td>0.269889</td>\n",
              "      <td>10793.929452</td>\n",
              "      <td>103.893837</td>\n",
              "      <td>0.861147</td>\n",
              "      <td>13667.656749</td>\n",
              "      <td>116.908754</td>\n",
              "      <td>13396.0</td>\n",
              "      <td>22261</td>\n",
              "      <td>1</td>\n",
              "      <td>1</td>\n",
              "      <td>0</td>\n",
              "      <td>0</td>\n",
              "    </tr>\n",
              "    <tr>\n",
              "      <th>0</th>\n",
              "      <td>15</td>\n",
              "      <td>0.269889</td>\n",
              "      <td>10793.929452</td>\n",
              "      <td>103.893837</td>\n",
              "      <td>0.861147</td>\n",
              "      <td>13667.656749</td>\n",
              "      <td>116.908754</td>\n",
              "      <td>13396.0</td>\n",
              "      <td>22261</td>\n",
              "      <td>1</td>\n",
              "      <td>1</td>\n",
              "      <td>0</td>\n",
              "      <td>0</td>\n",
              "    </tr>\n",
              "    <tr>\n",
              "      <th>1</th>\n",
              "      <td>1</td>\n",
              "      <td>0.232262</td>\n",
              "      <td>12158.831112</td>\n",
              "      <td>110.267090</td>\n",
              "      <td>0.550915</td>\n",
              "      <td>3477.196396</td>\n",
              "      <td>58.967757</td>\n",
              "      <td>11449.0</td>\n",
              "      <td>35559</td>\n",
              "      <td>0</td>\n",
              "      <td>1</td>\n",
              "      <td>0</td>\n",
              "      <td>0</td>\n",
              "    </tr>\n",
              "    <tr>\n",
              "      <th>...</th>\n",
              "      <td>...</td>\n",
              "      <td>...</td>\n",
              "      <td>...</td>\n",
              "      <td>...</td>\n",
              "      <td>...</td>\n",
              "      <td>...</td>\n",
              "      <td>...</td>\n",
              "      <td>...</td>\n",
              "      <td>...</td>\n",
              "      <td>...</td>\n",
              "      <td>...</td>\n",
              "      <td>...</td>\n",
              "      <td>...</td>\n",
              "    </tr>\n",
              "    <tr>\n",
              "      <th>68</th>\n",
              "      <td>35</td>\n",
              "      <td>0.595638</td>\n",
              "      <td>9071.367686</td>\n",
              "      <td>95.243728</td>\n",
              "      <td>1.347038</td>\n",
              "      <td>0.000000</td>\n",
              "      <td>0.000000</td>\n",
              "      <td>6222.0</td>\n",
              "      <td>11967</td>\n",
              "      <td>1</td>\n",
              "      <td>0</td>\n",
              "      <td>0</td>\n",
              "      <td>1</td>\n",
              "    </tr>\n",
              "    <tr>\n",
              "      <th>69</th>\n",
              "      <td>36</td>\n",
              "      <td>0.265566</td>\n",
              "      <td>25274.279565</td>\n",
              "      <td>158.978865</td>\n",
              "      <td>0.839751</td>\n",
              "      <td>89211.575400</td>\n",
              "      <td>298.683068</td>\n",
              "      <td>5440.0</td>\n",
              "      <td>10777</td>\n",
              "      <td>1</td>\n",
              "      <td>0</td>\n",
              "      <td>0</td>\n",
              "      <td>1</td>\n",
              "    </tr>\n",
              "    <tr>\n",
              "      <th>70</th>\n",
              "      <td>37</td>\n",
              "      <td>0.327847</td>\n",
              "      <td>4711.990537</td>\n",
              "      <td>68.643940</td>\n",
              "      <td>1.130587</td>\n",
              "      <td>36321.531088</td>\n",
              "      <td>190.582085</td>\n",
              "      <td>20620.0</td>\n",
              "      <td>38396</td>\n",
              "      <td>1</td>\n",
              "      <td>0</td>\n",
              "      <td>0</td>\n",
              "      <td>1</td>\n",
              "    </tr>\n",
              "    <tr>\n",
              "      <th>71</th>\n",
              "      <td>38</td>\n",
              "      <td>0.333184</td>\n",
              "      <td>1705.631521</td>\n",
              "      <td>41.299292</td>\n",
              "      <td>0.587654</td>\n",
              "      <td>99591.023764</td>\n",
              "      <td>315.580455</td>\n",
              "      <td>7139.0</td>\n",
              "      <td>11129</td>\n",
              "      <td>1</td>\n",
              "      <td>0</td>\n",
              "      <td>0</td>\n",
              "      <td>1</td>\n",
              "    </tr>\n",
              "    <tr>\n",
              "      <th>72</th>\n",
              "      <td>39</td>\n",
              "      <td>0.271984</td>\n",
              "      <td>2105.760554</td>\n",
              "      <td>45.888567</td>\n",
              "      <td>0.637816</td>\n",
              "      <td>151614.751438</td>\n",
              "      <td>389.377389</td>\n",
              "      <td>4178.0</td>\n",
              "      <td>7949</td>\n",
              "      <td>1</td>\n",
              "      <td>0</td>\n",
              "      <td>0</td>\n",
              "      <td>1</td>\n",
              "    </tr>\n",
              "  </tbody>\n",
              "</table>\n",
              "<p>184 rows × 13 columns</p>\n",
              "</div>"
            ]
          },
          "metadata": {
            "tags": []
          }
        }
      ]
    },
    {
      "cell_type": "markdown",
      "metadata": {
        "id": "NKHueo-26hG2"
      },
      "source": [
        "# Data visualization\n",
        "Here will be shown the comparative of the control subjects and PD subjects over the time (X axis = test duration, Y axis = user's data value).\n",
        "\\\n",
        "Control subjects are printed in blue and PD subjects in red."
      ]
    },
    {
      "cell_type": "code",
      "metadata": {
        "id": "AGHGpn_H6hG3",
        "outputId": "4db9842a-8a6e-4d58-a3e4-acd1e1588089"
      },
      "source": [
        "# Separate Control users data and PD users data\n",
        "control_data = final_dataset[final_dataset['Parkinson']==0].drop(['UserID', 'Parkinson', 'Test_ID_0','Test_ID_1','Test_ID_2'],1)\n",
        "parkinson_data = final_dataset[final_dataset['Parkinson']==1].drop(['UserID', 'Parkinson', 'Test_ID_0','Test_ID_1','Test_ID_2'],1)\n",
        "\n",
        "# Get Control users test duration and PD users test duration\n",
        "control_duration = control_data['Duration']\n",
        "parkinson_duration = parkinson_data['Duration']\n",
        "\n",
        "# Show all the variable's comparative\n",
        "for col in control_data.columns:\n",
        "  plt.figure()\n",
        "  control_col = control_data[col]\n",
        "  parkinson_col = parkinson_data[col]\n",
        "  plt.plot(control_duration, control_col, 'bo', parkinson_duration, parkinson_col, 'ro')\n",
        "  plt.title(col)\n",
        "  plt.show()"
      ],
      "execution_count": null,
      "outputs": [
        {
          "output_type": "display_data",
          "data": {
            "image/png": "[encoded data removed]"
          },
          "metadata": {
            "tags": [],
            "image/png": {
              "width": 0,
              "height": 0
            }
          }
        }
      ]
    },
    {
      "cell_type": "markdown",
      "metadata": {
        "id": "-2LADAss6hG7"
      },
      "source": [
        "# Prepare the training and test datasets\n",
        "We split the final dataset in two new datasets, train and test. Since we have an unbalanced dataset\n",
        "we have split the dataset with a stratified method for having the most balanced train and test dataset that is possible.\n",
        "\n",
        "We have chosen to split the data in 66% for training and 33% for testing.\n"
      ]
    },
    {
      "cell_type": "code",
      "metadata": {
        "id": "KdEo2Iy-6hG8",
        "outputId": "f2b6e3c5-a0d8-4b09-bafb-82cce24dd254"
      },
      "source": [
        "#split the data into two datasets and remove the columns that are not valid for the prediction\n",
        "trainX, testX, trainY, testY = train_test_split(final_dataset.drop(\n",
        "['UserID','Parkinson', 'Test_ID_0', 'Test_ID_1', 'Test_ID_2'],1), \n",
        "final_dataset['Parkinson'], test_size=0.33, stratify=final_dataset['Parkinson'])\n",
        "\n",
        "print(f'Control: {trainY.value_counts()[0]}\\n Parkinson: {trainY.value_counts()[1]}')"
      ],
      "execution_count": null,
      "outputs": [
        {
          "output_type": "stream",
          "text": [
            "Control: 49\n",
            " Parkinson: 74\n"
          ],
          "name": "stdout"
        }
      ]
    },
    {
      "cell_type": "markdown",
      "metadata": {
        "id": "wU05KCYp6hG_"
      },
      "source": [
        "# Logistic regression classifier"
      ]
    },
    {
      "cell_type": "code",
      "metadata": {
        "id": "qCE-qfCW6hHA",
        "outputId": "c1b8020c-28b7-4c6c-8ee6-a44974554c2f"
      },
      "source": [
        "lr = LogisticRegression(max_iter=500)\n",
        "lr.fit(trainX, trainY)"
      ],
      "execution_count": null,
      "outputs": [
        {
          "output_type": "display_data",
          "data": {
            "text/plain": [
              "LogisticRegression(C=1.0, class_weight=None, dual=False, fit_intercept=True,\n",
              "                   intercept_scaling=1, l1_ratio=None, max_iter=500,\n",
              "                   multi_class='auto', n_jobs=None, penalty='l2',\n",
              "                   random_state=None, solver='lbfgs', tol=0.0001, verbose=0,\n",
              "                   warm_start=False)"
            ]
          },
          "metadata": {
            "tags": []
          }
        }
      ]
    },
    {
      "cell_type": "code",
      "metadata": {
        "id": "0Zp6RY3w6hHD",
        "outputId": "08e8322d-ddc9-4c95-de5f-f9bdf38a2407"
      },
      "source": [
        "prediction = lr.predict(testX)\n",
        "print(f'Accuracy: {accuracy_score(testY, prediction)}')\n",
        "print(f'Balanced Accuracy: {balanced_accuracy_score(testY, prediction)}')\n",
        "confusion_matrix(testY, prediction)"
      ],
      "execution_count": null,
      "outputs": [
        {
          "output_type": "stream",
          "text": [
            "Accuracy: 0.7868852459016393\n",
            "Balanced Accuracy: 0.788888888888889\n"
          ],
          "name": "stdout"
        },
        {
          "output_type": "display_data",
          "data": {
            "text/plain": [
              "array([[20,  5],\n",
              "       [ 8, 28]])"
            ]
          },
          "metadata": {
            "tags": []
          }
        }
      ]
    },
    {
      "cell_type": "markdown",
      "metadata": {
        "id": "Pe1z21e-6hHH"
      },
      "source": [
        "# Random forest classifier"
      ]
    },
    {
      "cell_type": "code",
      "metadata": {
        "id": "9EykmGjL6hHH",
        "outputId": "bd9b04bc-4853-4b0c-83f0-8fd33ef08092"
      },
      "source": [
        "rf = RandomForestClassifier()\n",
        "rf.fit(trainX, trainY)\n",
        "prediction = rf.predict(testX)\n",
        "print(f'Accuracy: {accuracy_score(testY, prediction)}')\n",
        "print(f'Balanced Accuracy: {balanced_accuracy_score(testY, prediction)}')\n",
        "confusion_matrix(testY, prediction)"
      ],
      "execution_count": null,
      "outputs": [
        {
          "output_type": "stream",
          "text": [
            "Accuracy: 0.9180327868852459\n",
            "Balanced Accuracy: 0.9061111111111111\n"
          ],
          "name": "stdout"
        },
        {
          "output_type": "display_data",
          "data": {
            "text/plain": [
              "array([[21,  4],\n",
              "       [ 1, 35]])"
            ]
          },
          "metadata": {
            "tags": []
          }
        }
      ]
    },
    {
      "cell_type": "markdown",
      "metadata": {
        "id": "oceLXlqk6hHL"
      },
      "source": [
        "# Support Vector Machine classifier"
      ]
    },
    {
      "cell_type": "code",
      "metadata": {
        "id": "vGg1LeYd6hHM",
        "outputId": "35b02e1c-6134-434a-bab4-01f2f422c38f"
      },
      "source": [
        "svc = svm.SVC()\n",
        "svc.fit(trainX, trainY)\n",
        "prediction = svc.predict(testX)\n",
        "print(f'Accuracy: {accuracy_score(testY, prediction)}')\n",
        "print(f'Balanced Accuracy: {balanced_accuracy_score(testY, prediction)}')\n",
        "confusion_matrix(testY, prediction)"
      ],
      "execution_count": null,
      "outputs": [
        {
          "output_type": "stream",
          "text": [
            "Accuracy: 0.8360655737704918\n",
            "Balanced Accuracy: 0.8244444444444444\n"
          ],
          "name": "stdout"
        },
        {
          "output_type": "display_data",
          "data": {
            "text/plain": [
              "array([[19,  6],\n",
              "       [ 4, 32]])"
            ]
          },
          "metadata": {
            "tags": []
          }
        }
      ]
    },
    {
      "cell_type": "markdown",
      "metadata": {
        "id": "aNkMdWgq6hHP"
      },
      "source": [
        "# TPOT classifier\n",
        "The TPOT classifier try to find the best classifier for the dataset given with it's best pipelines* with genetic algorithms. This classifier is usually optimum but it\n",
        "has a very expensive computational weight.\n",
        "\n",
        "<img alt=\"Tpot scheme\" src=\"https://raw.githubusercontent.com/EpistasisLab/tpot/master/images/tpot-ml-pipeline.png\" width=\"75%\">\n",
        "\n",
        "*A pipeline consists of a sequence of components which are a compilation of computations. Data is sent through these components and is manipulated with the help of computation."
      ]
    },
    {
      "cell_type": "code",
      "metadata": {
        "id": "N-8EKRbz6hHQ"
      },
      "source": [
        "tpot = TPOTClassifier(generations=10, verbosity=2)\n",
        "tpot.fit(trainX, trainY)"
      ],
      "execution_count": null,
      "outputs": []
    },
    {
      "cell_type": "code",
      "metadata": {
        "id": "4pE4GKIn6hHU",
        "outputId": "4f581069-d886-4d60-91bd-8177a122fcd5"
      },
      "source": [
        "prediction = tpot.predict(testX)\n",
        "print(f'Accuracy: {accuracy_score(testY, prediction)}')\n",
        "print(f'Balanced Accuracy: {balanced_accuracy_score(testY, prediction)}')\n",
        "confusion_matrix(testY, prediction)"
      ],
      "execution_count": null,
      "outputs": [
        {
          "output_type": "stream",
          "text": [
            "Accuracy: 1.0\n",
            "Balanced Accuracy: 1.0\n"
          ],
          "name": "stdout"
        },
        {
          "output_type": "display_data",
          "data": {
            "text/plain": [
              "array([[25,  0],\n",
              "       [ 0, 36]])"
            ]
          },
          "metadata": {
            "tags": []
          }
        }
      ]
    },
    {
      "cell_type": "markdown",
      "metadata": {
        "id": "K5RpPB8l6hHX"
      },
      "source": [
        "### EVALUATING CLASSIFIERS\n",
        "#### Facing unbalanced dataset problem\n",
        "\n",
        "This dataset is highly unbalanced when it comes to class distribution. Thus, for evaluating the classifiers we used \n",
        "the **Stratified K-Folds cross-validator** (with k = 10) along with a **balanced accuracy score**. This type of k-fold cross-validator let us\n",
        "split the the train set in k stratified folds that preserve the percentage of samples for each class, leaving fairer\n",
        "folds, and, for evaluating the performance of each classifier, we used the balanced accuracy score, that is defined as the \n",
        "average of recall obtained on each class."
      ]
    },
    {
      "cell_type": "code",
      "metadata": {
        "id": "h2WKqqg96hHY"
      },
      "source": [
        "strat_kfold = StratifiedKFold(n_splits=10, shuffle=True, random_state=1)\n",
        "svc = svm.SVC()\n",
        "rf = RandomForestClassifier()\n",
        "# Enumerize subdatasets (equaly distributed)\n",
        "for train_index, test_index in strat_kfold.split(trainX, trainY):\n",
        "    # print(\"TRAIN:\", train_index, \"TEST:\", test_index)\n",
        "    train_x, test_x = trainX.iloc[train_index], trainX.iloc[test_index]\n",
        "    train_y, test_y = trainY.iloc[train_index], trainY.iloc[test_index]\n",
        "    #split_perc = 100*len(train_y[train_y==0])/len(train_y)\n",
        "    #print(\"TRAIN PERCENTAGES. 0's: {:.4}%\\t 1's: {:.4}%\".format(split_perc, 100-split_perc))\n",
        "\n",
        "    ## Fit classifiers\n",
        "    svc.fit(train_x, train_y)\n",
        "    rf.fit(train_x, train_y)\n",
        "\n",
        "    ## Predict\n",
        "    svc_prediction = svc.predict(test_x)\n",
        "    rf_prediction = rf.predict(test_x)\n",
        "\n",
        "    ## Compare several balanced accuracies\n",
        "    rf_sc = balanced_accuracy_score(test_y, rf_prediction)\n",
        "    svc_sc = balanced_accuracy_score(test_y,svc_prediction) \n",
        "    print(\"Balanced accuracy- [SVC]: {:.3}\\t [RF]:{:.3}\".format(svc_sc,rf_sc))"
      ],
      "execution_count": null,
      "outputs": []
    },
    {
      "cell_type": "markdown",
      "metadata": {
        "id": "cOQoFw_x6hHc"
      },
      "source": [
        "# Leave One Out Cross-Validation\n",
        "For the model validation task we have chosen the Leave One Out Cross-Validation method, which is computationally very expensive but is a very good method for the model evaluation too.\n",
        "### Explanation\n",
        "The models will be trained with all the dataset except one instance and will be tested with that intance left.  This will be repeated with all de intances in the dataset.\\\n",
        "<br><br>\n",
        "<img src = \"https://upload.wikimedia.org/wikipedia/commons/thumb/c/c7/LOOCV.gif/300px-LOOCV.gif\">"
      ]
    },
    {
      "cell_type": "code",
      "metadata": {
        "id": "SPL-Z8Gj6hHd",
        "outputId": "6ea4e2f3-2077-4d18-d57c-2a0ae684d47f"
      },
      "source": [
        "# Prepare de X and Y datasets, removing the class column from the X variable and other \n",
        "# unnecesary columns\n",
        "\n",
        "cross_val_Y = final_dataset['Parkinson']\n",
        "cross_val_X = final_dataset.drop(['UserID', 'Parkinson', 'Test_ID_0', 'Test_ID_1', 'Test_ID_2'],1)\n",
        "n_samples = cross_val_X.shape[0]\n",
        "\n",
        "# Evaluate all the models created with the Leave One Out Cross-Validation method.\n",
        "\n",
        "lr_score = cross_val_score(lr, cross_val_X, cross_val_Y, cv = KFold(n_samples))\n",
        "print(f'Logistic regression: {np.mean(lr_score)}')\n",
        "svc_score = cross_val_score(svc, cross_val_X, cross_val_Y, cv = KFold(n_samples))\n",
        "print(f'Support Vector Machine: {np.mean(svc_score)}')\n",
        "rf_score = cross_val_score(rf, cross_val_X, cross_val_Y, cv = KFold(n_samples))\n",
        "print(f'Random Forest: {np.mean(rf_score)}')\n",
        "tpot_score = cross_val_score(tpot.fitted_pipeline_, cross_val_X, cross_val_Y, cv = KFold(n_samples))\n",
        "print(f'TPOT: {np.mean(tpot_score)}')"
      ],
      "execution_count": null,
      "outputs": [
        {
          "output_type": "stream",
          "text": [
            "Logistic regression: 0.7608695652173914\n",
            "Support Vector Machine: 0.8858695652173914\n",
            "Random Forest: 0.9782608695652174\n",
            "TPOT: 0.9945652173913043\n"
          ],
          "name": "stdout"
        }
      ]
    }
  ]
}